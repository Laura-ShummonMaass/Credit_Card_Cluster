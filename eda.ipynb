{
 "cells": [
  {
   "cell_type": "code",
   "execution_count": 1,
   "metadata": {},
   "outputs": [],
   "source": [
    "# Required packages for today\n",
    "from sklearn.cluster import KMeans\n",
    "from sklearn import metrics\n",
    "from sklearn import datasets\n",
    "import seaborn as sns\n",
    "\n",
    "# Familiar packages for plotting, data manipulation, and numeric functions\n",
    "import matplotlib.pyplot as plt\n",
    "import pandas as pd\n",
    "import numpy as np\n",
    "\n",
    "# Have plots appear in notebook\n",
    "%matplotlib inline\n",
    "\n",
    "# Default plot params\n",
    "plt.style.use('seaborn')\n",
    "# np.random.seed(1)"
   ]
  },
  {
   "cell_type": "code",
   "execution_count": 2,
   "metadata": {
    "scrolled": false
   },
   "outputs": [
    {
     "data": {
      "text/html": [
       "<div>\n",
       "<style scoped>\n",
       "    .dataframe tbody tr th:only-of-type {\n",
       "        vertical-align: middle;\n",
       "    }\n",
       "\n",
       "    .dataframe tbody tr th {\n",
       "        vertical-align: top;\n",
       "    }\n",
       "\n",
       "    .dataframe thead th {\n",
       "        text-align: right;\n",
       "    }\n",
       "</style>\n",
       "<table border=\"1\" class=\"dataframe\">\n",
       "  <thead>\n",
       "    <tr style=\"text-align: right;\">\n",
       "      <th></th>\n",
       "      <th>0</th>\n",
       "      <th>1</th>\n",
       "      <th>2</th>\n",
       "      <th>3</th>\n",
       "      <th>4</th>\n",
       "      <th>5</th>\n",
       "      <th>6</th>\n",
       "      <th>7</th>\n",
       "      <th>8</th>\n",
       "      <th>9</th>\n",
       "    </tr>\n",
       "  </thead>\n",
       "  <tbody>\n",
       "    <tr>\n",
       "      <th>CUST_ID</th>\n",
       "      <td>C10001</td>\n",
       "      <td>C10002</td>\n",
       "      <td>C10003</td>\n",
       "      <td>C10004</td>\n",
       "      <td>C10005</td>\n",
       "      <td>C10006</td>\n",
       "      <td>C10007</td>\n",
       "      <td>C10008</td>\n",
       "      <td>C10009</td>\n",
       "      <td>C10010</td>\n",
       "    </tr>\n",
       "    <tr>\n",
       "      <th>BALANCE</th>\n",
       "      <td>40.9007</td>\n",
       "      <td>3202.47</td>\n",
       "      <td>2495.15</td>\n",
       "      <td>1666.67</td>\n",
       "      <td>817.714</td>\n",
       "      <td>1809.83</td>\n",
       "      <td>627.261</td>\n",
       "      <td>1823.65</td>\n",
       "      <td>1014.93</td>\n",
       "      <td>152.226</td>\n",
       "    </tr>\n",
       "    <tr>\n",
       "      <th>BALANCE_FREQUENCY</th>\n",
       "      <td>0.818182</td>\n",
       "      <td>0.909091</td>\n",
       "      <td>1</td>\n",
       "      <td>0.636364</td>\n",
       "      <td>1</td>\n",
       "      <td>1</td>\n",
       "      <td>1</td>\n",
       "      <td>1</td>\n",
       "      <td>1</td>\n",
       "      <td>0.545455</td>\n",
       "    </tr>\n",
       "    <tr>\n",
       "      <th>PURCHASES</th>\n",
       "      <td>95.4</td>\n",
       "      <td>0</td>\n",
       "      <td>773.17</td>\n",
       "      <td>1499</td>\n",
       "      <td>16</td>\n",
       "      <td>1333.28</td>\n",
       "      <td>7091.01</td>\n",
       "      <td>436.2</td>\n",
       "      <td>861.49</td>\n",
       "      <td>1281.6</td>\n",
       "    </tr>\n",
       "    <tr>\n",
       "      <th>ONEOFF_PURCHASES</th>\n",
       "      <td>0</td>\n",
       "      <td>0</td>\n",
       "      <td>773.17</td>\n",
       "      <td>1499</td>\n",
       "      <td>16</td>\n",
       "      <td>0</td>\n",
       "      <td>6402.63</td>\n",
       "      <td>0</td>\n",
       "      <td>661.49</td>\n",
       "      <td>1281.6</td>\n",
       "    </tr>\n",
       "    <tr>\n",
       "      <th>INSTALLMENTS_PURCHASES</th>\n",
       "      <td>95.4</td>\n",
       "      <td>0</td>\n",
       "      <td>0</td>\n",
       "      <td>0</td>\n",
       "      <td>0</td>\n",
       "      <td>1333.28</td>\n",
       "      <td>688.38</td>\n",
       "      <td>436.2</td>\n",
       "      <td>200</td>\n",
       "      <td>0</td>\n",
       "    </tr>\n",
       "    <tr>\n",
       "      <th>CASH_ADVANCE</th>\n",
       "      <td>0</td>\n",
       "      <td>6442.95</td>\n",
       "      <td>0</td>\n",
       "      <td>205.788</td>\n",
       "      <td>0</td>\n",
       "      <td>0</td>\n",
       "      <td>0</td>\n",
       "      <td>0</td>\n",
       "      <td>0</td>\n",
       "      <td>0</td>\n",
       "    </tr>\n",
       "    <tr>\n",
       "      <th>PURCHASES_FREQUENCY</th>\n",
       "      <td>0.166667</td>\n",
       "      <td>0</td>\n",
       "      <td>1</td>\n",
       "      <td>0.083333</td>\n",
       "      <td>0.083333</td>\n",
       "      <td>0.666667</td>\n",
       "      <td>1</td>\n",
       "      <td>1</td>\n",
       "      <td>0.333333</td>\n",
       "      <td>0.166667</td>\n",
       "    </tr>\n",
       "    <tr>\n",
       "      <th>ONEOFF_PURCHASES_FREQUENCY</th>\n",
       "      <td>0</td>\n",
       "      <td>0</td>\n",
       "      <td>1</td>\n",
       "      <td>0.083333</td>\n",
       "      <td>0.083333</td>\n",
       "      <td>0</td>\n",
       "      <td>1</td>\n",
       "      <td>0</td>\n",
       "      <td>0.083333</td>\n",
       "      <td>0.166667</td>\n",
       "    </tr>\n",
       "    <tr>\n",
       "      <th>PURCHASES_INSTALLMENTS_FREQUENCY</th>\n",
       "      <td>0.083333</td>\n",
       "      <td>0</td>\n",
       "      <td>0</td>\n",
       "      <td>0</td>\n",
       "      <td>0</td>\n",
       "      <td>0.583333</td>\n",
       "      <td>1</td>\n",
       "      <td>1</td>\n",
       "      <td>0.25</td>\n",
       "      <td>0</td>\n",
       "    </tr>\n",
       "    <tr>\n",
       "      <th>CASH_ADVANCE_FREQUENCY</th>\n",
       "      <td>0</td>\n",
       "      <td>0.25</td>\n",
       "      <td>0</td>\n",
       "      <td>0.083333</td>\n",
       "      <td>0</td>\n",
       "      <td>0</td>\n",
       "      <td>0</td>\n",
       "      <td>0</td>\n",
       "      <td>0</td>\n",
       "      <td>0</td>\n",
       "    </tr>\n",
       "    <tr>\n",
       "      <th>CASH_ADVANCE_TRX</th>\n",
       "      <td>0</td>\n",
       "      <td>4</td>\n",
       "      <td>0</td>\n",
       "      <td>1</td>\n",
       "      <td>0</td>\n",
       "      <td>0</td>\n",
       "      <td>0</td>\n",
       "      <td>0</td>\n",
       "      <td>0</td>\n",
       "      <td>0</td>\n",
       "    </tr>\n",
       "    <tr>\n",
       "      <th>PURCHASES_TRX</th>\n",
       "      <td>2</td>\n",
       "      <td>0</td>\n",
       "      <td>12</td>\n",
       "      <td>1</td>\n",
       "      <td>1</td>\n",
       "      <td>8</td>\n",
       "      <td>64</td>\n",
       "      <td>12</td>\n",
       "      <td>5</td>\n",
       "      <td>3</td>\n",
       "    </tr>\n",
       "    <tr>\n",
       "      <th>CREDIT_LIMIT</th>\n",
       "      <td>1000</td>\n",
       "      <td>7000</td>\n",
       "      <td>7500</td>\n",
       "      <td>7500</td>\n",
       "      <td>1200</td>\n",
       "      <td>1800</td>\n",
       "      <td>13500</td>\n",
       "      <td>2300</td>\n",
       "      <td>7000</td>\n",
       "      <td>11000</td>\n",
       "    </tr>\n",
       "    <tr>\n",
       "      <th>PAYMENTS</th>\n",
       "      <td>201.802</td>\n",
       "      <td>4103.03</td>\n",
       "      <td>622.067</td>\n",
       "      <td>0</td>\n",
       "      <td>678.335</td>\n",
       "      <td>1400.06</td>\n",
       "      <td>6354.31</td>\n",
       "      <td>679.065</td>\n",
       "      <td>688.279</td>\n",
       "      <td>1164.77</td>\n",
       "    </tr>\n",
       "    <tr>\n",
       "      <th>MINIMUM_PAYMENTS</th>\n",
       "      <td>139.51</td>\n",
       "      <td>1072.34</td>\n",
       "      <td>627.285</td>\n",
       "      <td>NaN</td>\n",
       "      <td>244.791</td>\n",
       "      <td>2407.25</td>\n",
       "      <td>198.066</td>\n",
       "      <td>532.034</td>\n",
       "      <td>311.963</td>\n",
       "      <td>100.302</td>\n",
       "    </tr>\n",
       "    <tr>\n",
       "      <th>PRC_FULL_PAYMENT</th>\n",
       "      <td>0</td>\n",
       "      <td>0.222222</td>\n",
       "      <td>0</td>\n",
       "      <td>0</td>\n",
       "      <td>0</td>\n",
       "      <td>0</td>\n",
       "      <td>1</td>\n",
       "      <td>0</td>\n",
       "      <td>0</td>\n",
       "      <td>0</td>\n",
       "    </tr>\n",
       "    <tr>\n",
       "      <th>TENURE</th>\n",
       "      <td>12</td>\n",
       "      <td>12</td>\n",
       "      <td>12</td>\n",
       "      <td>12</td>\n",
       "      <td>12</td>\n",
       "      <td>12</td>\n",
       "      <td>12</td>\n",
       "      <td>12</td>\n",
       "      <td>12</td>\n",
       "      <td>12</td>\n",
       "    </tr>\n",
       "  </tbody>\n",
       "</table>\n",
       "</div>"
      ],
      "text/plain": [
       "                                         0         1        2         3  \\\n",
       "CUST_ID                             C10001    C10002   C10003    C10004   \n",
       "BALANCE                            40.9007   3202.47  2495.15   1666.67   \n",
       "BALANCE_FREQUENCY                 0.818182  0.909091        1  0.636364   \n",
       "PURCHASES                             95.4         0   773.17      1499   \n",
       "ONEOFF_PURCHASES                         0         0   773.17      1499   \n",
       "INSTALLMENTS_PURCHASES                95.4         0        0         0   \n",
       "CASH_ADVANCE                             0   6442.95        0   205.788   \n",
       "PURCHASES_FREQUENCY               0.166667         0        1  0.083333   \n",
       "ONEOFF_PURCHASES_FREQUENCY               0         0        1  0.083333   \n",
       "PURCHASES_INSTALLMENTS_FREQUENCY  0.083333         0        0         0   \n",
       "CASH_ADVANCE_FREQUENCY                   0      0.25        0  0.083333   \n",
       "CASH_ADVANCE_TRX                         0         4        0         1   \n",
       "PURCHASES_TRX                            2         0       12         1   \n",
       "CREDIT_LIMIT                          1000      7000     7500      7500   \n",
       "PAYMENTS                           201.802   4103.03  622.067         0   \n",
       "MINIMUM_PAYMENTS                    139.51   1072.34  627.285       NaN   \n",
       "PRC_FULL_PAYMENT                         0  0.222222        0         0   \n",
       "TENURE                                  12        12       12        12   \n",
       "\n",
       "                                         4         5        6        7  \\\n",
       "CUST_ID                             C10005    C10006   C10007   C10008   \n",
       "BALANCE                            817.714   1809.83  627.261  1823.65   \n",
       "BALANCE_FREQUENCY                        1         1        1        1   \n",
       "PURCHASES                               16   1333.28  7091.01    436.2   \n",
       "ONEOFF_PURCHASES                        16         0  6402.63        0   \n",
       "INSTALLMENTS_PURCHASES                   0   1333.28   688.38    436.2   \n",
       "CASH_ADVANCE                             0         0        0        0   \n",
       "PURCHASES_FREQUENCY               0.083333  0.666667        1        1   \n",
       "ONEOFF_PURCHASES_FREQUENCY        0.083333         0        1        0   \n",
       "PURCHASES_INSTALLMENTS_FREQUENCY         0  0.583333        1        1   \n",
       "CASH_ADVANCE_FREQUENCY                   0         0        0        0   \n",
       "CASH_ADVANCE_TRX                         0         0        0        0   \n",
       "PURCHASES_TRX                            1         8       64       12   \n",
       "CREDIT_LIMIT                          1200      1800    13500     2300   \n",
       "PAYMENTS                           678.335   1400.06  6354.31  679.065   \n",
       "MINIMUM_PAYMENTS                   244.791   2407.25  198.066  532.034   \n",
       "PRC_FULL_PAYMENT                         0         0        1        0   \n",
       "TENURE                                  12        12       12       12   \n",
       "\n",
       "                                         8         9  \n",
       "CUST_ID                             C10009    C10010  \n",
       "BALANCE                            1014.93   152.226  \n",
       "BALANCE_FREQUENCY                        1  0.545455  \n",
       "PURCHASES                           861.49    1281.6  \n",
       "ONEOFF_PURCHASES                    661.49    1281.6  \n",
       "INSTALLMENTS_PURCHASES                 200         0  \n",
       "CASH_ADVANCE                             0         0  \n",
       "PURCHASES_FREQUENCY               0.333333  0.166667  \n",
       "ONEOFF_PURCHASES_FREQUENCY        0.083333  0.166667  \n",
       "PURCHASES_INSTALLMENTS_FREQUENCY      0.25         0  \n",
       "CASH_ADVANCE_FREQUENCY                   0         0  \n",
       "CASH_ADVANCE_TRX                         0         0  \n",
       "PURCHASES_TRX                            5         3  \n",
       "CREDIT_LIMIT                          7000     11000  \n",
       "PAYMENTS                           688.279   1164.77  \n",
       "MINIMUM_PAYMENTS                   311.963   100.302  \n",
       "PRC_FULL_PAYMENT                         0         0  \n",
       "TENURE                                  12        12  "
      ]
     },
     "execution_count": 2,
     "metadata": {},
     "output_type": "execute_result"
    }
   ],
   "source": [
    "raw_df = pd.read_csv('data/CCdata.csv')\n",
    "raw_df.head(10).T"
   ]
  },
  {
   "cell_type": "code",
   "execution_count": 3,
   "metadata": {
    "scrolled": true
   },
   "outputs": [
    {
     "data": {
      "text/plain": [
       "CUST_ID                              object\n",
       "BALANCE                             float64\n",
       "BALANCE_FREQUENCY                   float64\n",
       "PURCHASES                           float64\n",
       "ONEOFF_PURCHASES                    float64\n",
       "INSTALLMENTS_PURCHASES              float64\n",
       "CASH_ADVANCE                        float64\n",
       "PURCHASES_FREQUENCY                 float64\n",
       "ONEOFF_PURCHASES_FREQUENCY          float64\n",
       "PURCHASES_INSTALLMENTS_FREQUENCY    float64\n",
       "CASH_ADVANCE_FREQUENCY              float64\n",
       "CASH_ADVANCE_TRX                      int64\n",
       "PURCHASES_TRX                         int64\n",
       "CREDIT_LIMIT                        float64\n",
       "PAYMENTS                            float64\n",
       "MINIMUM_PAYMENTS                    float64\n",
       "PRC_FULL_PAYMENT                    float64\n",
       "TENURE                                int64\n",
       "dtype: object"
      ]
     },
     "execution_count": 3,
     "metadata": {},
     "output_type": "execute_result"
    }
   ],
   "source": [
    "raw_df.dtypes"
   ]
  },
  {
   "cell_type": "code",
   "execution_count": 4,
   "metadata": {},
   "outputs": [],
   "source": [
    "df = raw_df.drop('CUST_ID', axis=1)"
   ]
  },
  {
   "cell_type": "code",
   "execution_count": 5,
   "metadata": {
    "scrolled": true
   },
   "outputs": [
    {
     "data": {
      "text/plain": [
       "BALANCE                               0\n",
       "BALANCE_FREQUENCY                     0\n",
       "PURCHASES                             0\n",
       "ONEOFF_PURCHASES                      0\n",
       "INSTALLMENTS_PURCHASES                0\n",
       "CASH_ADVANCE                          0\n",
       "PURCHASES_FREQUENCY                   0\n",
       "ONEOFF_PURCHASES_FREQUENCY            0\n",
       "PURCHASES_INSTALLMENTS_FREQUENCY      0\n",
       "CASH_ADVANCE_FREQUENCY                0\n",
       "CASH_ADVANCE_TRX                      0\n",
       "PURCHASES_TRX                         0\n",
       "CREDIT_LIMIT                          1\n",
       "PAYMENTS                              0\n",
       "MINIMUM_PAYMENTS                    313\n",
       "PRC_FULL_PAYMENT                      0\n",
       "TENURE                                0\n",
       "dtype: int64"
      ]
     },
     "execution_count": 5,
     "metadata": {},
     "output_type": "execute_result"
    }
   ],
   "source": [
    "df.isna().sum()"
   ]
  },
  {
   "cell_type": "code",
   "execution_count": 6,
   "metadata": {
    "scrolled": true
   },
   "outputs": [
    {
     "data": {
      "text/plain": [
       "BALANCE                             0\n",
       "BALANCE_FREQUENCY                   0\n",
       "PURCHASES                           0\n",
       "ONEOFF_PURCHASES                    0\n",
       "INSTALLMENTS_PURCHASES              0\n",
       "CASH_ADVANCE                        0\n",
       "PURCHASES_FREQUENCY                 0\n",
       "ONEOFF_PURCHASES_FREQUENCY          0\n",
       "PURCHASES_INSTALLMENTS_FREQUENCY    0\n",
       "CASH_ADVANCE_FREQUENCY              0\n",
       "CASH_ADVANCE_TRX                    0\n",
       "PURCHASES_TRX                       0\n",
       "CREDIT_LIMIT                        0\n",
       "PAYMENTS                            0\n",
       "MINIMUM_PAYMENTS                    0\n",
       "PRC_FULL_PAYMENT                    0\n",
       "TENURE                              0\n",
       "dtype: int64"
      ]
     },
     "execution_count": 6,
     "metadata": {},
     "output_type": "execute_result"
    }
   ],
   "source": [
    "# Fill the Minimum Payments columns with 0\n",
    "df.MINIMUM_PAYMENTS = df.MINIMUM_PAYMENTS.fillna(0)\n",
    "\n",
    "# Since there is only 1 NaN in Credit Limit, we drop it\n",
    "df = df.dropna()\n",
    "df.isna().sum()"
   ]
  },
  {
   "cell_type": "code",
   "execution_count": 7,
   "metadata": {},
   "outputs": [
    {
     "data": {
      "text/html": [
       "<div>\n",
       "<style scoped>\n",
       "    .dataframe tbody tr th:only-of-type {\n",
       "        vertical-align: middle;\n",
       "    }\n",
       "\n",
       "    .dataframe tbody tr th {\n",
       "        vertical-align: top;\n",
       "    }\n",
       "\n",
       "    .dataframe thead th {\n",
       "        text-align: right;\n",
       "    }\n",
       "</style>\n",
       "<table border=\"1\" class=\"dataframe\">\n",
       "  <thead>\n",
       "    <tr style=\"text-align: right;\">\n",
       "      <th></th>\n",
       "      <th>BALANCE</th>\n",
       "      <th>BALANCE_FREQUENCY</th>\n",
       "      <th>PURCHASES</th>\n",
       "      <th>ONEOFF_PURCHASES</th>\n",
       "      <th>INSTALLMENTS_PURCHASES</th>\n",
       "      <th>CASH_ADVANCE</th>\n",
       "      <th>PURCHASES_FREQUENCY</th>\n",
       "      <th>ONEOFF_PURCHASES_FREQUENCY</th>\n",
       "      <th>PURCHASES_INSTALLMENTS_FREQUENCY</th>\n",
       "      <th>CASH_ADVANCE_FREQUENCY</th>\n",
       "      <th>CASH_ADVANCE_TRX</th>\n",
       "      <th>PURCHASES_TRX</th>\n",
       "      <th>CREDIT_LIMIT</th>\n",
       "      <th>PAYMENTS</th>\n",
       "      <th>MINIMUM_PAYMENTS</th>\n",
       "      <th>PRC_FULL_PAYMENT</th>\n",
       "      <th>TENURE</th>\n",
       "    </tr>\n",
       "  </thead>\n",
       "  <tbody>\n",
       "    <tr>\n",
       "      <th>count</th>\n",
       "      <td>8949.000000</td>\n",
       "      <td>8949.000000</td>\n",
       "      <td>8949.000000</td>\n",
       "      <td>8949.000000</td>\n",
       "      <td>8949.000000</td>\n",
       "      <td>8949.000000</td>\n",
       "      <td>8949.000000</td>\n",
       "      <td>8949.000000</td>\n",
       "      <td>8949.000000</td>\n",
       "      <td>8949.000000</td>\n",
       "      <td>8949.000000</td>\n",
       "      <td>8949.000000</td>\n",
       "      <td>8949.000000</td>\n",
       "      <td>8949.000000</td>\n",
       "      <td>8949.000000</td>\n",
       "      <td>8949.000000</td>\n",
       "      <td>8949.000000</td>\n",
       "    </tr>\n",
       "    <tr>\n",
       "      <th>mean</th>\n",
       "      <td>1564.647593</td>\n",
       "      <td>0.877350</td>\n",
       "      <td>1003.316936</td>\n",
       "      <td>592.503572</td>\n",
       "      <td>411.113579</td>\n",
       "      <td>978.959616</td>\n",
       "      <td>0.490405</td>\n",
       "      <td>0.202480</td>\n",
       "      <td>0.364478</td>\n",
       "      <td>0.135141</td>\n",
       "      <td>3.249078</td>\n",
       "      <td>14.711476</td>\n",
       "      <td>4494.449450</td>\n",
       "      <td>1733.336511</td>\n",
       "      <td>834.075035</td>\n",
       "      <td>0.153732</td>\n",
       "      <td>11.517935</td>\n",
       "    </tr>\n",
       "    <tr>\n",
       "      <th>std</th>\n",
       "      <td>2081.584016</td>\n",
       "      <td>0.236798</td>\n",
       "      <td>2136.727848</td>\n",
       "      <td>1659.968851</td>\n",
       "      <td>904.378205</td>\n",
       "      <td>2097.264344</td>\n",
       "      <td>0.401360</td>\n",
       "      <td>0.298345</td>\n",
       "      <td>0.397451</td>\n",
       "      <td>0.200132</td>\n",
       "      <td>6.824987</td>\n",
       "      <td>24.858552</td>\n",
       "      <td>3638.815725</td>\n",
       "      <td>2895.168146</td>\n",
       "      <td>2336.104378</td>\n",
       "      <td>0.292511</td>\n",
       "      <td>1.337134</td>\n",
       "    </tr>\n",
       "    <tr>\n",
       "      <th>min</th>\n",
       "      <td>0.000000</td>\n",
       "      <td>0.000000</td>\n",
       "      <td>0.000000</td>\n",
       "      <td>0.000000</td>\n",
       "      <td>0.000000</td>\n",
       "      <td>0.000000</td>\n",
       "      <td>0.000000</td>\n",
       "      <td>0.000000</td>\n",
       "      <td>0.000000</td>\n",
       "      <td>0.000000</td>\n",
       "      <td>0.000000</td>\n",
       "      <td>0.000000</td>\n",
       "      <td>50.000000</td>\n",
       "      <td>0.000000</td>\n",
       "      <td>0.000000</td>\n",
       "      <td>0.000000</td>\n",
       "      <td>6.000000</td>\n",
       "    </tr>\n",
       "    <tr>\n",
       "      <th>25%</th>\n",
       "      <td>128.365782</td>\n",
       "      <td>0.888889</td>\n",
       "      <td>39.800000</td>\n",
       "      <td>0.000000</td>\n",
       "      <td>0.000000</td>\n",
       "      <td>0.000000</td>\n",
       "      <td>0.083333</td>\n",
       "      <td>0.000000</td>\n",
       "      <td>0.000000</td>\n",
       "      <td>0.000000</td>\n",
       "      <td>0.000000</td>\n",
       "      <td>1.000000</td>\n",
       "      <td>1600.000000</td>\n",
       "      <td>383.282850</td>\n",
       "      <td>163.029483</td>\n",
       "      <td>0.000000</td>\n",
       "      <td>12.000000</td>\n",
       "    </tr>\n",
       "    <tr>\n",
       "      <th>50%</th>\n",
       "      <td>873.680279</td>\n",
       "      <td>1.000000</td>\n",
       "      <td>361.490000</td>\n",
       "      <td>38.000000</td>\n",
       "      <td>89.000000</td>\n",
       "      <td>0.000000</td>\n",
       "      <td>0.500000</td>\n",
       "      <td>0.083333</td>\n",
       "      <td>0.166667</td>\n",
       "      <td>0.000000</td>\n",
       "      <td>0.000000</td>\n",
       "      <td>7.000000</td>\n",
       "      <td>3000.000000</td>\n",
       "      <td>857.062706</td>\n",
       "      <td>289.686899</td>\n",
       "      <td>0.000000</td>\n",
       "      <td>12.000000</td>\n",
       "    </tr>\n",
       "    <tr>\n",
       "      <th>75%</th>\n",
       "      <td>2054.372848</td>\n",
       "      <td>1.000000</td>\n",
       "      <td>1110.170000</td>\n",
       "      <td>577.830000</td>\n",
       "      <td>468.650000</td>\n",
       "      <td>1113.868654</td>\n",
       "      <td>0.916667</td>\n",
       "      <td>0.300000</td>\n",
       "      <td>0.750000</td>\n",
       "      <td>0.222222</td>\n",
       "      <td>4.000000</td>\n",
       "      <td>17.000000</td>\n",
       "      <td>6500.000000</td>\n",
       "      <td>1901.279320</td>\n",
       "      <td>788.721609</td>\n",
       "      <td>0.142857</td>\n",
       "      <td>12.000000</td>\n",
       "    </tr>\n",
       "    <tr>\n",
       "      <th>max</th>\n",
       "      <td>19043.138560</td>\n",
       "      <td>1.000000</td>\n",
       "      <td>49039.570000</td>\n",
       "      <td>40761.250000</td>\n",
       "      <td>22500.000000</td>\n",
       "      <td>47137.211760</td>\n",
       "      <td>1.000000</td>\n",
       "      <td>1.000000</td>\n",
       "      <td>1.000000</td>\n",
       "      <td>1.500000</td>\n",
       "      <td>123.000000</td>\n",
       "      <td>358.000000</td>\n",
       "      <td>30000.000000</td>\n",
       "      <td>50721.483360</td>\n",
       "      <td>76406.207520</td>\n",
       "      <td>1.000000</td>\n",
       "      <td>12.000000</td>\n",
       "    </tr>\n",
       "  </tbody>\n",
       "</table>\n",
       "</div>"
      ],
      "text/plain": [
       "            BALANCE  BALANCE_FREQUENCY     PURCHASES  ONEOFF_PURCHASES  \\\n",
       "count   8949.000000        8949.000000   8949.000000       8949.000000   \n",
       "mean    1564.647593           0.877350   1003.316936        592.503572   \n",
       "std     2081.584016           0.236798   2136.727848       1659.968851   \n",
       "min        0.000000           0.000000      0.000000          0.000000   \n",
       "25%      128.365782           0.888889     39.800000          0.000000   \n",
       "50%      873.680279           1.000000    361.490000         38.000000   \n",
       "75%     2054.372848           1.000000   1110.170000        577.830000   \n",
       "max    19043.138560           1.000000  49039.570000      40761.250000   \n",
       "\n",
       "       INSTALLMENTS_PURCHASES  CASH_ADVANCE  PURCHASES_FREQUENCY  \\\n",
       "count             8949.000000   8949.000000          8949.000000   \n",
       "mean               411.113579    978.959616             0.490405   \n",
       "std                904.378205   2097.264344             0.401360   \n",
       "min                  0.000000      0.000000             0.000000   \n",
       "25%                  0.000000      0.000000             0.083333   \n",
       "50%                 89.000000      0.000000             0.500000   \n",
       "75%                468.650000   1113.868654             0.916667   \n",
       "max              22500.000000  47137.211760             1.000000   \n",
       "\n",
       "       ONEOFF_PURCHASES_FREQUENCY  PURCHASES_INSTALLMENTS_FREQUENCY  \\\n",
       "count                 8949.000000                       8949.000000   \n",
       "mean                     0.202480                          0.364478   \n",
       "std                      0.298345                          0.397451   \n",
       "min                      0.000000                          0.000000   \n",
       "25%                      0.000000                          0.000000   \n",
       "50%                      0.083333                          0.166667   \n",
       "75%                      0.300000                          0.750000   \n",
       "max                      1.000000                          1.000000   \n",
       "\n",
       "       CASH_ADVANCE_FREQUENCY  CASH_ADVANCE_TRX  PURCHASES_TRX  CREDIT_LIMIT  \\\n",
       "count             8949.000000       8949.000000    8949.000000   8949.000000   \n",
       "mean                 0.135141          3.249078      14.711476   4494.449450   \n",
       "std                  0.200132          6.824987      24.858552   3638.815725   \n",
       "min                  0.000000          0.000000       0.000000     50.000000   \n",
       "25%                  0.000000          0.000000       1.000000   1600.000000   \n",
       "50%                  0.000000          0.000000       7.000000   3000.000000   \n",
       "75%                  0.222222          4.000000      17.000000   6500.000000   \n",
       "max                  1.500000        123.000000     358.000000  30000.000000   \n",
       "\n",
       "           PAYMENTS  MINIMUM_PAYMENTS  PRC_FULL_PAYMENT       TENURE  \n",
       "count   8949.000000       8949.000000       8949.000000  8949.000000  \n",
       "mean    1733.336511        834.075035          0.153732    11.517935  \n",
       "std     2895.168146       2336.104378          0.292511     1.337134  \n",
       "min        0.000000          0.000000          0.000000     6.000000  \n",
       "25%      383.282850        163.029483          0.000000    12.000000  \n",
       "50%      857.062706        289.686899          0.000000    12.000000  \n",
       "75%     1901.279320        788.721609          0.142857    12.000000  \n",
       "max    50721.483360      76406.207520          1.000000    12.000000  "
      ]
     },
     "execution_count": 7,
     "metadata": {},
     "output_type": "execute_result"
    }
   ],
   "source": [
    "df.describe()"
   ]
  },
  {
   "cell_type": "code",
   "execution_count": 8,
   "metadata": {
    "scrolled": false
   },
   "outputs": [
    {
     "data": {
      "text/plain": [
       "Text(0.5, 1.0, 'Multi-Collinearity of Car Attributes')"
      ]
     },
     "execution_count": 8,
     "metadata": {},
     "output_type": "execute_result"
    },
    {
     "data": {
      "image/png": "[encoded data removed]",
      "text/plain": [
       "<Figure size 720x432 with 2 Axes>"
      ]
     },
     "metadata": {
      "needs_background": "light"
     },
     "output_type": "display_data"
    }
   ],
   "source": [
    "fig, ax = plt.subplots(figsize=(10,6))\n",
    "sns.heatmap(df.corr(), center=0, cmap='BrBG', annot=True)\n",
    "\n",
    "ax.set_title('Multi-Collinearity of Car Attributes')"
   ]
  },
  {
   "cell_type": "code",
   "execution_count": 9,
   "metadata": {},
   "outputs": [],
   "source": [
    "df = df.drop(['ONEOFF_PURCHASES', 'PURCHASES_INSTALLMENTS_FREQUENCY', 'CASH_ADVANCE_TRX',\n",
    "              'TENURE', 'PAYMENTS', 'ONEOFF_PURCHASES_FREQUENCY', 'INSTALLMENTS_PURCHASES', \n",
    "              'CASH_ADVANCE_FREQUENCY', 'PURCHASES_FREQUENCY', 'BALANCE_FREQUENCY', 'PRC_FULL_PAYMENT'], axis=1)"
   ]
  },
  {
   "cell_type": "code",
   "execution_count": 10,
   "metadata": {},
   "outputs": [],
   "source": [
    "#Credit Card approval: 1 = approved, 0 = denied\n",
    "df['CC_APPROVAL'] = df.apply(lambda x: 1\n",
    "                                 if x['CREDIT_LIMIT']>=3000\n",
    "                                 and x['BALANCE']>=1000\n",
    "                                 and x['CASH_ADVANCE']<=100\n",
    "                                 else 0,\n",
    "                                 axis=1)"
   ]
  },
  {
   "cell_type": "code",
   "execution_count": 11,
   "metadata": {},
   "outputs": [],
   "source": [
    "df['P_AMOUNT_PER_TRX'] = df.apply(lambda x: 0 if x['PURCHASES_TRX'] == 0\n",
    "                                      else x['PURCHASES']/x['PURCHASES_TRX'],\n",
    "                                      axis=1)"
   ]
  },
  {
   "cell_type": "code",
   "execution_count": 97,
   "metadata": {},
   "outputs": [],
   "source": [
    "df['BAL_PER_CL'] = df.apply(lambda x: \n",
    "                            x['BALANCE']/x['CREDIT_LIMIT'], \n",
    "                            axis=1)"
   ]
  },
  {
   "cell_type": "code",
   "execution_count": 98,
   "metadata": {
    "scrolled": false
   },
   "outputs": [
    {
     "data": {
      "text/plain": [
       "0    8141\n",
       "1     808\n",
       "Name: CC_APPROVAL, dtype: int64"
      ]
     },
     "execution_count": 98,
     "metadata": {},
     "output_type": "execute_result"
    }
   ],
   "source": [
    "df['CC_APPROVAL'].value_counts()"
   ]
  },
  {
   "cell_type": "code",
   "execution_count": 99,
   "metadata": {},
   "outputs": [
    {
     "data": {
      "text/html": [
       "<div>\n",
       "<style scoped>\n",
       "    .dataframe tbody tr th:only-of-type {\n",
       "        vertical-align: middle;\n",
       "    }\n",
       "\n",
       "    .dataframe tbody tr th {\n",
       "        vertical-align: top;\n",
       "    }\n",
       "\n",
       "    .dataframe thead th {\n",
       "        text-align: right;\n",
       "    }\n",
       "</style>\n",
       "<table border=\"1\" class=\"dataframe\">\n",
       "  <thead>\n",
       "    <tr style=\"text-align: right;\">\n",
       "      <th></th>\n",
       "      <th>0</th>\n",
       "      <th>1</th>\n",
       "      <th>2</th>\n",
       "      <th>3</th>\n",
       "      <th>4</th>\n",
       "    </tr>\n",
       "  </thead>\n",
       "  <tbody>\n",
       "    <tr>\n",
       "      <th>BALANCE</th>\n",
       "      <td>40.900749</td>\n",
       "      <td>3202.467416</td>\n",
       "      <td>2495.148862</td>\n",
       "      <td>1666.670542</td>\n",
       "      <td>817.714335</td>\n",
       "    </tr>\n",
       "    <tr>\n",
       "      <th>PURCHASES</th>\n",
       "      <td>95.400000</td>\n",
       "      <td>0.000000</td>\n",
       "      <td>773.170000</td>\n",
       "      <td>1499.000000</td>\n",
       "      <td>16.000000</td>\n",
       "    </tr>\n",
       "    <tr>\n",
       "      <th>CASH_ADVANCE</th>\n",
       "      <td>0.000000</td>\n",
       "      <td>6442.945483</td>\n",
       "      <td>0.000000</td>\n",
       "      <td>205.788017</td>\n",
       "      <td>0.000000</td>\n",
       "    </tr>\n",
       "    <tr>\n",
       "      <th>PURCHASES_TRX</th>\n",
       "      <td>2.000000</td>\n",
       "      <td>0.000000</td>\n",
       "      <td>12.000000</td>\n",
       "      <td>1.000000</td>\n",
       "      <td>1.000000</td>\n",
       "    </tr>\n",
       "    <tr>\n",
       "      <th>CREDIT_LIMIT</th>\n",
       "      <td>1000.000000</td>\n",
       "      <td>7000.000000</td>\n",
       "      <td>7500.000000</td>\n",
       "      <td>7500.000000</td>\n",
       "      <td>1200.000000</td>\n",
       "    </tr>\n",
       "    <tr>\n",
       "      <th>MINIMUM_PAYMENTS</th>\n",
       "      <td>139.509787</td>\n",
       "      <td>1072.340217</td>\n",
       "      <td>627.284787</td>\n",
       "      <td>0.000000</td>\n",
       "      <td>244.791237</td>\n",
       "    </tr>\n",
       "    <tr>\n",
       "      <th>CC_APPROVAL</th>\n",
       "      <td>0.000000</td>\n",
       "      <td>0.000000</td>\n",
       "      <td>1.000000</td>\n",
       "      <td>0.000000</td>\n",
       "      <td>0.000000</td>\n",
       "    </tr>\n",
       "    <tr>\n",
       "      <th>P_AMOUNT_PER_TRX</th>\n",
       "      <td>47.700000</td>\n",
       "      <td>0.000000</td>\n",
       "      <td>64.430833</td>\n",
       "      <td>1499.000000</td>\n",
       "      <td>16.000000</td>\n",
       "    </tr>\n",
       "    <tr>\n",
       "      <th>BAL_PER_CL</th>\n",
       "      <td>0.040901</td>\n",
       "      <td>0.457495</td>\n",
       "      <td>0.332687</td>\n",
       "      <td>0.222223</td>\n",
       "      <td>0.681429</td>\n",
       "    </tr>\n",
       "  </tbody>\n",
       "</table>\n",
       "</div>"
      ],
      "text/plain": [
       "                            0            1            2            3  \\\n",
       "BALANCE             40.900749  3202.467416  2495.148862  1666.670542   \n",
       "PURCHASES           95.400000     0.000000   773.170000  1499.000000   \n",
       "CASH_ADVANCE         0.000000  6442.945483     0.000000   205.788017   \n",
       "PURCHASES_TRX        2.000000     0.000000    12.000000     1.000000   \n",
       "CREDIT_LIMIT      1000.000000  7000.000000  7500.000000  7500.000000   \n",
       "MINIMUM_PAYMENTS   139.509787  1072.340217   627.284787     0.000000   \n",
       "CC_APPROVAL          0.000000     0.000000     1.000000     0.000000   \n",
       "P_AMOUNT_PER_TRX    47.700000     0.000000    64.430833  1499.000000   \n",
       "BAL_PER_CL           0.040901     0.457495     0.332687     0.222223   \n",
       "\n",
       "                            4  \n",
       "BALANCE            817.714335  \n",
       "PURCHASES           16.000000  \n",
       "CASH_ADVANCE         0.000000  \n",
       "PURCHASES_TRX        1.000000  \n",
       "CREDIT_LIMIT      1200.000000  \n",
       "MINIMUM_PAYMENTS   244.791237  \n",
       "CC_APPROVAL          0.000000  \n",
       "P_AMOUNT_PER_TRX    16.000000  \n",
       "BAL_PER_CL           0.681429  "
      ]
     },
     "execution_count": 99,
     "metadata": {},
     "output_type": "execute_result"
    }
   ],
   "source": [
    "df.head().T"
   ]
  },
  {
   "cell_type": "markdown",
   "metadata": {},
   "source": [
    "## K-Means Clustering"
   ]
  },
  {
   "cell_type": "code",
   "execution_count": 100,
   "metadata": {},
   "outputs": [],
   "source": [
    "from sklearn.cluster import KMeans, AgglomerativeClustering\n",
    "from sklearn.metrics import calinski_harabaz_score\n",
    "from sklearn.decomposition import PCA\n",
    "from sklearn.preprocessing import StandardScaler"
   ]
  },
  {
   "cell_type": "code",
   "execution_count": 101,
   "metadata": {},
   "outputs": [],
   "source": [
    "df_cluster = df.drop(['CC_APPROVAL'], axis=1)"
   ]
  },
  {
   "cell_type": "code",
   "execution_count": 102,
   "metadata": {},
   "outputs": [
    {
     "name": "stderr",
     "output_type": "stream",
     "text": [
      "/anaconda3/lib/python3.7/site-packages/sklearn/preprocessing/data.py:625: DataConversionWarning:\n",
      "\n",
      "Data with input dtype int64, float64 were all converted to float64 by StandardScaler.\n",
      "\n",
      "/anaconda3/lib/python3.7/site-packages/sklearn/base.py:462: DataConversionWarning:\n",
      "\n",
      "Data with input dtype int64, float64 were all converted to float64 by StandardScaler.\n",
      "\n"
     ]
    }
   ],
   "source": [
    "ss = StandardScaler()\n",
    "scaled_data = ss.fit_transform(df_cluster)"
   ]
  },
  {
   "cell_type": "code",
   "execution_count": 103,
   "metadata": {},
   "outputs": [
    {
     "data": {
      "text/html": [
       "<div>\n",
       "<style scoped>\n",
       "    .dataframe tbody tr th:only-of-type {\n",
       "        vertical-align: middle;\n",
       "    }\n",
       "\n",
       "    .dataframe tbody tr th {\n",
       "        vertical-align: top;\n",
       "    }\n",
       "\n",
       "    .dataframe thead th {\n",
       "        text-align: right;\n",
       "    }\n",
       "</style>\n",
       "<table border=\"1\" class=\"dataframe\">\n",
       "  <thead>\n",
       "    <tr style=\"text-align: right;\">\n",
       "      <th></th>\n",
       "      <th>0</th>\n",
       "      <th>1</th>\n",
       "      <th>2</th>\n",
       "      <th>3</th>\n",
       "      <th>4</th>\n",
       "    </tr>\n",
       "  </thead>\n",
       "  <tbody>\n",
       "    <tr>\n",
       "      <th>BALANCE</th>\n",
       "      <td>-0.732054</td>\n",
       "      <td>0.786858</td>\n",
       "      <td>0.447041</td>\n",
       "      <td>0.049015</td>\n",
       "      <td>-0.358849</td>\n",
       "    </tr>\n",
       "    <tr>\n",
       "      <th>PURCHASES</th>\n",
       "      <td>-0.424934</td>\n",
       "      <td>-0.469584</td>\n",
       "      <td>-0.107716</td>\n",
       "      <td>0.231995</td>\n",
       "      <td>-0.462095</td>\n",
       "    </tr>\n",
       "    <tr>\n",
       "      <th>CASH_ADVANCE</th>\n",
       "      <td>-0.466805</td>\n",
       "      <td>2.605438</td>\n",
       "      <td>-0.466805</td>\n",
       "      <td>-0.368678</td>\n",
       "      <td>-0.466805</td>\n",
       "    </tr>\n",
       "    <tr>\n",
       "      <th>PURCHASES_TRX</th>\n",
       "      <td>-0.511381</td>\n",
       "      <td>-0.591841</td>\n",
       "      <td>-0.109082</td>\n",
       "      <td>-0.551611</td>\n",
       "      <td>-0.551611</td>\n",
       "    </tr>\n",
       "    <tr>\n",
       "      <th>CREDIT_LIMIT</th>\n",
       "      <td>-0.960380</td>\n",
       "      <td>0.688601</td>\n",
       "      <td>0.826016</td>\n",
       "      <td>0.826016</td>\n",
       "      <td>-0.905414</td>\n",
       "    </tr>\n",
       "    <tr>\n",
       "      <th>MINIMUM_PAYMENTS</th>\n",
       "      <td>-0.297334</td>\n",
       "      <td>0.101998</td>\n",
       "      <td>-0.088524</td>\n",
       "      <td>-0.357057</td>\n",
       "      <td>-0.252265</td>\n",
       "    </tr>\n",
       "    <tr>\n",
       "      <th>P_AMOUNT_PER_TRX</th>\n",
       "      <td>-0.163085</td>\n",
       "      <td>-0.460239</td>\n",
       "      <td>-0.058858</td>\n",
       "      <td>8.877985</td>\n",
       "      <td>-0.360565</td>\n",
       "    </tr>\n",
       "    <tr>\n",
       "      <th>BAL_PER_CL</th>\n",
       "      <td>-0.893059</td>\n",
       "      <td>0.175953</td>\n",
       "      <td>-0.144316</td>\n",
       "      <td>-0.427774</td>\n",
       "      <td>0.750582</td>\n",
       "    </tr>\n",
       "  </tbody>\n",
       "</table>\n",
       "</div>"
      ],
      "text/plain": [
       "                         0         1         2         3         4\n",
       "BALANCE          -0.732054  0.786858  0.447041  0.049015 -0.358849\n",
       "PURCHASES        -0.424934 -0.469584 -0.107716  0.231995 -0.462095\n",
       "CASH_ADVANCE     -0.466805  2.605438 -0.466805 -0.368678 -0.466805\n",
       "PURCHASES_TRX    -0.511381 -0.591841 -0.109082 -0.551611 -0.551611\n",
       "CREDIT_LIMIT     -0.960380  0.688601  0.826016  0.826016 -0.905414\n",
       "MINIMUM_PAYMENTS -0.297334  0.101998 -0.088524 -0.357057 -0.252265\n",
       "P_AMOUNT_PER_TRX -0.163085 -0.460239 -0.058858  8.877985 -0.360565\n",
       "BAL_PER_CL       -0.893059  0.175953 -0.144316 -0.427774  0.750582"
      ]
     },
     "execution_count": 103,
     "metadata": {},
     "output_type": "execute_result"
    }
   ],
   "source": [
    "scaled_df=pd.DataFrame(data=scaled_data, columns=df_cluster.columns)\n",
    "scaled_df.head().T"
   ]
  },
  {
   "cell_type": "code",
   "execution_count": 104,
   "metadata": {},
   "outputs": [
    {
     "data": {
      "text/html": [
       "<div>\n",
       "<style scoped>\n",
       "    .dataframe tbody tr th:only-of-type {\n",
       "        vertical-align: middle;\n",
       "    }\n",
       "\n",
       "    .dataframe tbody tr th {\n",
       "        vertical-align: top;\n",
       "    }\n",
       "\n",
       "    .dataframe thead th {\n",
       "        text-align: right;\n",
       "    }\n",
       "</style>\n",
       "<table border=\"1\" class=\"dataframe\">\n",
       "  <thead>\n",
       "    <tr style=\"text-align: right;\">\n",
       "      <th></th>\n",
       "      <th>pca1</th>\n",
       "      <th>pca2</th>\n",
       "    </tr>\n",
       "  </thead>\n",
       "  <tbody>\n",
       "    <tr>\n",
       "      <th>0</th>\n",
       "      <td>-1.620711</td>\n",
       "      <td>-0.123466</td>\n",
       "    </tr>\n",
       "    <tr>\n",
       "      <th>1</th>\n",
       "      <td>1.281014</td>\n",
       "      <td>1.694603</td>\n",
       "    </tr>\n",
       "    <tr>\n",
       "      <th>2</th>\n",
       "      <td>0.312917</td>\n",
       "      <td>-0.140090</td>\n",
       "    </tr>\n",
       "    <tr>\n",
       "      <th>3</th>\n",
       "      <td>0.590824</td>\n",
       "      <td>-2.531177</td>\n",
       "    </tr>\n",
       "    <tr>\n",
       "      <th>4</th>\n",
       "      <td>-1.003864</td>\n",
       "      <td>0.774606</td>\n",
       "    </tr>\n",
       "  </tbody>\n",
       "</table>\n",
       "</div>"
      ],
      "text/plain": [
       "       pca1      pca2\n",
       "0 -1.620711 -0.123466\n",
       "1  1.281014  1.694603\n",
       "2  0.312917 -0.140090\n",
       "3  0.590824 -2.531177\n",
       "4 -1.003864  0.774606"
      ]
     },
     "execution_count": 104,
     "metadata": {},
     "output_type": "execute_result"
    }
   ],
   "source": [
    "pca = PCA(n_components=2)\n",
    "#pca_data = pca.fit_transform(scaled_df)\n",
    "pca_data = pca.fit_transform(scaled_df)\n",
    "\n",
    "pca_df = pd.DataFrame(data=pca_data, columns=['pca1', 'pca2'])\n",
    "pca_df.head()"
   ]
  },
  {
   "cell_type": "markdown",
   "metadata": {},
   "source": [
    "### Graphs to find optimal K for cluster size categorization:\n",
    "### Elbow & Silhouette"
   ]
  },
  {
   "cell_type": "code",
   "execution_count": 105,
   "metadata": {
    "scrolled": false
   },
   "outputs": [],
   "source": [
    "# # Elbow graph to find optimal K for cluster size categorization\n",
    "# X = df\n",
    "# distorsions = []\n",
    "\n",
    "# for k in range(2, 10):\n",
    "#     kmeans = KMeans(n_clusters=k, random_state=10)\n",
    "#     kmeans.fit(X)\n",
    "#     distorsions.append(kmeans.inertia_)\n",
    "\n",
    "# plt.figure(figsize=(5,5))\n",
    "# plt.xlabel('k')\n",
    "# plt.plot(range(2, 10), distorsions)\n",
    "# plt.grid(True)"
   ]
  },
  {
   "cell_type": "code",
   "execution_count": 106,
   "metadata": {},
   "outputs": [],
   "source": [
    "# # Silhouette coefficient for each k, finding optimal K for cluster size categorization\n",
    "# X = df\n",
    "# silhouette_plot = []\n",
    "# for k in range(2, 10):\n",
    "#     clusters = KMeans(n_clusters=k, random_state=10)\n",
    "#     cluster_labels = clusters.fit_predict(X)\n",
    "#     silhouette_avg = metrics.silhouette_score(X, cluster_labels)\n",
    "#     silhouette_plot.append(silhouette_avg)\n",
    "    \n",
    "# plt.figure(figsize=(10,5))\n",
    "# plt.subplot(121, title='Silhouette coefficients over k')\n",
    "# plt.xlabel('k')\n",
    "# plt.ylabel('silhouette coefficient')\n",
    "# plt.plot(range(2, 10), silhouette_plot)\n",
    "# plt.grid(True)"
   ]
  },
  {
   "cell_type": "code",
   "execution_count": 107,
   "metadata": {},
   "outputs": [
    {
     "data": {
      "text/plain": [
       "[[-1.0043984433076922, -0.42025048410215765],\n",
       " [-0.07431181917450641, 0.9019207274998993],\n",
       " [0.9556655194116581, -1.6292370511242205],\n",
       " [2.9284316854640347, 1.7890954758634439],\n",
       " [5.766741251825824, -4.966773501798887]]"
      ]
     },
     "execution_count": 107,
     "metadata": {},
     "output_type": "execute_result"
    }
   ],
   "source": [
    "model = KMeans(n_clusters=5, random_state=10).fit(pca_df)\n",
    "model_label = model.labels_\n",
    "model_centers = model.cluster_centers_\n",
    "sorted(model_centers.tolist())"
   ]
  },
  {
   "cell_type": "code",
   "execution_count": 108,
   "metadata": {
    "scrolled": false
   },
   "outputs": [
    {
     "data": {
      "image/png": "[encoded data removed]",
      "text/plain": [
       "<Figure size 720x576 with 2 Axes>"
      ]
     },
     "metadata": {
      "needs_background": "light"
     },
     "output_type": "display_data"
    }
   ],
   "source": [
    "plt.figure(figsize=(10,8))\n",
    "\n",
    "plt.title('K-Means Clustering')\n",
    "plt.xlabel('pca1')\n",
    "plt.ylabel('pca2')\n",
    "\n",
    "scatter = plt.scatter(pca_df['pca1'], pca_df['pca2'], c=model_label, s=25, cmap='RdBu_r')\n",
    "plt.colorbar(scatter)\n",
    "plt.scatter(model_centers[:,0], model_centers[:,1], c='red', marker='*');"
   ]
  },
  {
   "cell_type": "code",
   "execution_count": 109,
   "metadata": {},
   "outputs": [
    {
     "data": {
      "text/html": [
       "<div>\n",
       "<style scoped>\n",
       "    .dataframe tbody tr th:only-of-type {\n",
       "        vertical-align: middle;\n",
       "    }\n",
       "\n",
       "    .dataframe tbody tr th {\n",
       "        vertical-align: top;\n",
       "    }\n",
       "\n",
       "    .dataframe thead th {\n",
       "        text-align: right;\n",
       "    }\n",
       "</style>\n",
       "<table border=\"1\" class=\"dataframe\">\n",
       "  <thead>\n",
       "    <tr style=\"text-align: right;\">\n",
       "      <th></th>\n",
       "      <th>0</th>\n",
       "      <th>1</th>\n",
       "    </tr>\n",
       "  </thead>\n",
       "  <tbody>\n",
       "    <tr>\n",
       "      <th>BALANCE</th>\n",
       "      <td>0.546309</td>\n",
       "      <td>0.255330</td>\n",
       "    </tr>\n",
       "    <tr>\n",
       "      <th>PURCHASES</th>\n",
       "      <td>0.350768</td>\n",
       "      <td>-0.526204</td>\n",
       "    </tr>\n",
       "    <tr>\n",
       "      <th>CASH_ADVANCE</th>\n",
       "      <td>0.327741</td>\n",
       "      <td>0.334730</td>\n",
       "    </tr>\n",
       "    <tr>\n",
       "      <th>PURCHASES_TRX</th>\n",
       "      <td>0.314547</td>\n",
       "      <td>-0.475900</td>\n",
       "    </tr>\n",
       "    <tr>\n",
       "      <th>CREDIT_LIMIT</th>\n",
       "      <td>0.440276</td>\n",
       "      <td>-0.169461</td>\n",
       "    </tr>\n",
       "    <tr>\n",
       "      <th>MINIMUM_PAYMENTS</th>\n",
       "      <td>0.331305</td>\n",
       "      <td>0.203870</td>\n",
       "    </tr>\n",
       "    <tr>\n",
       "      <th>P_AMOUNT_PER_TRX</th>\n",
       "      <td>0.072011</td>\n",
       "      <td>-0.243475</td>\n",
       "    </tr>\n",
       "    <tr>\n",
       "      <th>BAL_PER_CL</th>\n",
       "      <td>0.251722</td>\n",
       "      <td>0.435696</td>\n",
       "    </tr>\n",
       "  </tbody>\n",
       "</table>\n",
       "</div>"
      ],
      "text/plain": [
       "                         0         1\n",
       "BALANCE           0.546309  0.255330\n",
       "PURCHASES         0.350768 -0.526204\n",
       "CASH_ADVANCE      0.327741  0.334730\n",
       "PURCHASES_TRX     0.314547 -0.475900\n",
       "CREDIT_LIMIT      0.440276 -0.169461\n",
       "MINIMUM_PAYMENTS  0.331305  0.203870\n",
       "P_AMOUNT_PER_TRX  0.072011 -0.243475\n",
       "BAL_PER_CL        0.251722  0.435696"
      ]
     },
     "execution_count": 109,
     "metadata": {},
     "output_type": "execute_result"
    }
   ],
   "source": [
    "pca_components = pd.DataFrame(pca.components_, columns=df_cluster.columns)\n",
    "pca_components.head().T"
   ]
  },
  {
   "cell_type": "markdown",
   "metadata": {},
   "source": [
    "* Largest Values in pca1 = index CREDIT_LIMIT, PURCHASES, BALANCE, PURCHASES_TRX\n",
    "      \n",
    "* Largest Values in pca2 = index 2 (CASH_ADVANCE), 0 (BALANCE)  -- balance may be inflated due to borrowed money\n",
    "* Smallest Values in pca2= index 1 (PURCHASES), 3 (PURCHASES_TRX)"
   ]
  },
  {
   "cell_type": "markdown",
   "metadata": {},
   "source": [
    "## Write about results"
   ]
  },
  {
   "cell_type": "markdown",
   "metadata": {},
   "source": [
    "Points far to the right are roughly correlated with higher credit limits, higher $ spent and higher balances... in other words these customers are likely wealthier and likely to be fairly reliable.\n",
    "\n",
    "Points far to the top are roughly correlated with higher cash advances and high balances... the high balance may be an artifically inflated balance due to the cash advances made. These are customers who took large amounts of short term loans. "
   ]
  },
  {
   "cell_type": "code",
   "execution_count": 110,
   "metadata": {},
   "outputs": [
    {
     "data": {
      "text/html": [
       "<div>\n",
       "<style scoped>\n",
       "    .dataframe tbody tr th:only-of-type {\n",
       "        vertical-align: middle;\n",
       "    }\n",
       "\n",
       "    .dataframe tbody tr th {\n",
       "        vertical-align: top;\n",
       "    }\n",
       "\n",
       "    .dataframe thead th {\n",
       "        text-align: right;\n",
       "    }\n",
       "</style>\n",
       "<table border=\"1\" class=\"dataframe\">\n",
       "  <thead>\n",
       "    <tr style=\"text-align: right;\">\n",
       "      <th></th>\n",
       "      <th>0</th>\n",
       "      <th>1</th>\n",
       "      <th>2</th>\n",
       "      <th>3</th>\n",
       "      <th>4</th>\n",
       "    </tr>\n",
       "  </thead>\n",
       "  <tbody>\n",
       "    <tr>\n",
       "      <th>BALANCE</th>\n",
       "      <td>-0.732054</td>\n",
       "      <td>0.786858</td>\n",
       "      <td>0.447041</td>\n",
       "      <td>0.049015</td>\n",
       "      <td>-0.358849</td>\n",
       "    </tr>\n",
       "    <tr>\n",
       "      <th>PURCHASES</th>\n",
       "      <td>-0.424934</td>\n",
       "      <td>-0.469584</td>\n",
       "      <td>-0.107716</td>\n",
       "      <td>0.231995</td>\n",
       "      <td>-0.462095</td>\n",
       "    </tr>\n",
       "    <tr>\n",
       "      <th>CASH_ADVANCE</th>\n",
       "      <td>-0.466805</td>\n",
       "      <td>2.605438</td>\n",
       "      <td>-0.466805</td>\n",
       "      <td>-0.368678</td>\n",
       "      <td>-0.466805</td>\n",
       "    </tr>\n",
       "    <tr>\n",
       "      <th>PURCHASES_TRX</th>\n",
       "      <td>-0.511381</td>\n",
       "      <td>-0.591841</td>\n",
       "      <td>-0.109082</td>\n",
       "      <td>-0.551611</td>\n",
       "      <td>-0.551611</td>\n",
       "    </tr>\n",
       "    <tr>\n",
       "      <th>CREDIT_LIMIT</th>\n",
       "      <td>-0.960380</td>\n",
       "      <td>0.688601</td>\n",
       "      <td>0.826016</td>\n",
       "      <td>0.826016</td>\n",
       "      <td>-0.905414</td>\n",
       "    </tr>\n",
       "    <tr>\n",
       "      <th>MINIMUM_PAYMENTS</th>\n",
       "      <td>-0.297334</td>\n",
       "      <td>0.101998</td>\n",
       "      <td>-0.088524</td>\n",
       "      <td>-0.357057</td>\n",
       "      <td>-0.252265</td>\n",
       "    </tr>\n",
       "    <tr>\n",
       "      <th>P_AMOUNT_PER_TRX</th>\n",
       "      <td>-0.163085</td>\n",
       "      <td>-0.460239</td>\n",
       "      <td>-0.058858</td>\n",
       "      <td>8.877985</td>\n",
       "      <td>-0.360565</td>\n",
       "    </tr>\n",
       "    <tr>\n",
       "      <th>BAL_PER_CL</th>\n",
       "      <td>-0.893059</td>\n",
       "      <td>0.175953</td>\n",
       "      <td>-0.144316</td>\n",
       "      <td>-0.427774</td>\n",
       "      <td>0.750582</td>\n",
       "    </tr>\n",
       "    <tr>\n",
       "      <th>GROUPS</th>\n",
       "      <td>1.000000</td>\n",
       "      <td>4.000000</td>\n",
       "      <td>4.000000</td>\n",
       "      <td>3.000000</td>\n",
       "      <td>4.000000</td>\n",
       "    </tr>\n",
       "  </tbody>\n",
       "</table>\n",
       "</div>"
      ],
      "text/plain": [
       "                         0         1         2         3         4\n",
       "BALANCE          -0.732054  0.786858  0.447041  0.049015 -0.358849\n",
       "PURCHASES        -0.424934 -0.469584 -0.107716  0.231995 -0.462095\n",
       "CASH_ADVANCE     -0.466805  2.605438 -0.466805 -0.368678 -0.466805\n",
       "PURCHASES_TRX    -0.511381 -0.591841 -0.109082 -0.551611 -0.551611\n",
       "CREDIT_LIMIT     -0.960380  0.688601  0.826016  0.826016 -0.905414\n",
       "MINIMUM_PAYMENTS -0.297334  0.101998 -0.088524 -0.357057 -0.252265\n",
       "P_AMOUNT_PER_TRX -0.163085 -0.460239 -0.058858  8.877985 -0.360565\n",
       "BAL_PER_CL       -0.893059  0.175953 -0.144316 -0.427774  0.750582\n",
       "GROUPS            1.000000  4.000000  4.000000  3.000000  4.000000"
      ]
     },
     "execution_count": 110,
     "metadata": {},
     "output_type": "execute_result"
    }
   ],
   "source": [
    "scaled_df['GROUPS'] = model.labels_\n",
    "scaled_df.head().T"
   ]
  },
  {
   "cell_type": "markdown",
   "metadata": {},
   "source": [
    "# Radar Plot"
   ]
  },
  {
   "cell_type": "code",
   "execution_count": 118,
   "metadata": {},
   "outputs": [],
   "source": [
    "labels = np.array(['BALANCE', 'PURCHASES', 'CASH_ADVANCE', 'PURCHASES_TRX', 'CREDIT_LIMIT',\n",
    "                   'MINIMUM_PAYMENTS', 'P_AMOUNT_PER_TRX', 'BAL_PER_CL'])\n",
    "stats=scaled_df.loc[:,'GROUPS'].values"
   ]
  },
  {
   "cell_type": "code",
   "execution_count": 119,
   "metadata": {},
   "outputs": [],
   "source": [
    "angles=np.linspace(0, 2*np.pi, len(labels), endpoint=False)\n",
    "# close the plot\n",
    "stats=np.concatenate((stats,[stats[0]]))\n",
    "angles=np.concatenate((angles,[angles[0]]))"
   ]
  },
  {
   "cell_type": "code",
   "execution_count": 120,
   "metadata": {},
   "outputs": [
    {
     "data": {
      "text/html": [
       "<div>\n",
       "<style scoped>\n",
       "    .dataframe tbody tr th:only-of-type {\n",
       "        vertical-align: middle;\n",
       "    }\n",
       "\n",
       "    .dataframe tbody tr th {\n",
       "        vertical-align: top;\n",
       "    }\n",
       "\n",
       "    .dataframe thead th {\n",
       "        text-align: right;\n",
       "    }\n",
       "</style>\n",
       "<table border=\"1\" class=\"dataframe\">\n",
       "  <thead>\n",
       "    <tr style=\"text-align: right;\">\n",
       "      <th></th>\n",
       "      <th>BALANCE</th>\n",
       "      <th>PURCHASES</th>\n",
       "      <th>CASH_ADVANCE</th>\n",
       "      <th>PURCHASES_TRX</th>\n",
       "      <th>CREDIT_LIMIT</th>\n",
       "      <th>MINIMUM_PAYMENTS</th>\n",
       "      <th>P_AMOUNT_PER_TRX</th>\n",
       "      <th>BAL_PER_CL</th>\n",
       "    </tr>\n",
       "  </thead>\n",
       "  <tbody>\n",
       "    <tr>\n",
       "      <th>0</th>\n",
       "      <td>-0.624228</td>\n",
       "      <td>-0.189074</td>\n",
       "      <td>-0.390409</td>\n",
       "      <td>-0.182773</td>\n",
       "      <td>-0.319843</td>\n",
       "      <td>-0.276142</td>\n",
       "      <td>0.011432</td>\n",
       "      <td>-0.715588</td>\n",
       "    </tr>\n",
       "    <tr>\n",
       "      <th>1</th>\n",
       "      <td>0.013005</td>\n",
       "      <td>0.997083</td>\n",
       "      <td>-0.278262</td>\n",
       "      <td>1.140914</td>\n",
       "      <td>0.952627</td>\n",
       "      <td>-0.099778</td>\n",
       "      <td>0.528184</td>\n",
       "      <td>-0.370465</td>\n",
       "    </tr>\n",
       "    <tr>\n",
       "      <th>2</th>\n",
       "      <td>0.142070</td>\n",
       "      <td>-0.335317</td>\n",
       "      <td>0.133759</td>\n",
       "      <td>-0.360439</td>\n",
       "      <td>-0.355436</td>\n",
       "      <td>0.016313</td>\n",
       "      <td>-0.235935</td>\n",
       "      <td>0.807656</td>\n",
       "    </tr>\n",
       "    <tr>\n",
       "      <th>3</th>\n",
       "      <td>1.923039</td>\n",
       "      <td>5.416332</td>\n",
       "      <td>0.004198</td>\n",
       "      <td>4.603154</td>\n",
       "      <td>2.260500</td>\n",
       "      <td>0.778299</td>\n",
       "      <td>1.062769</td>\n",
       "      <td>0.148501</td>\n",
       "    </tr>\n",
       "    <tr>\n",
       "      <th>4</th>\n",
       "      <td>2.208406</td>\n",
       "      <td>-0.103449</td>\n",
       "      <td>1.816657</td>\n",
       "      <td>-0.113875</td>\n",
       "      <td>1.194302</td>\n",
       "      <td>1.317669</td>\n",
       "      <td>-0.090339</td>\n",
       "      <td>0.964582</td>\n",
       "    </tr>\n",
       "  </tbody>\n",
       "</table>\n",
       "</div>"
      ],
      "text/plain": [
       "    BALANCE  PURCHASES  CASH_ADVANCE  PURCHASES_TRX  CREDIT_LIMIT  \\\n",
       "0 -0.624228  -0.189074     -0.390409      -0.182773     -0.319843   \n",
       "1  0.013005   0.997083     -0.278262       1.140914      0.952627   \n",
       "2  0.142070  -0.335317      0.133759      -0.360439     -0.355436   \n",
       "3  1.923039   5.416332      0.004198       4.603154      2.260500   \n",
       "4  2.208406  -0.103449      1.816657      -0.113875      1.194302   \n",
       "\n",
       "   MINIMUM_PAYMENTS  P_AMOUNT_PER_TRX  BAL_PER_CL  \n",
       "0         -0.276142          0.011432   -0.715588  \n",
       "1         -0.099778          0.528184   -0.370465  \n",
       "2          0.016313         -0.235935    0.807656  \n",
       "3          0.778299          1.062769    0.148501  \n",
       "4          1.317669         -0.090339    0.964582  "
      ]
     },
     "execution_count": 120,
     "metadata": {},
     "output_type": "execute_result"
    }
   ],
   "source": [
    "X = scaled_df.groupby(['GROUPS']).mean().groupby(['BALANCE']).mean()\n",
    "X = X.reset_index()\n",
    "X\n"
   ]
  },
  {
   "cell_type": "code",
   "execution_count": 121,
   "metadata": {},
   "outputs": [],
   "source": [
    "Group_1 = X.loc[0,:]\n",
    "Group_2 = X.loc[1,:]\n",
    "Group_3 = X.loc[2,:]\n",
    "Group_4 = X.loc[3,:]\n",
    "Group_5 = X.loc[4,:]"
   ]
  },
  {
   "cell_type": "code",
   "execution_count": 122,
   "metadata": {},
   "outputs": [
    {
     "data": {
      "text/plain": [
       "BALANCE            -0.624228\n",
       "PURCHASES          -0.189074\n",
       "CASH_ADVANCE       -0.390409\n",
       "PURCHASES_TRX      -0.182773\n",
       "CREDIT_LIMIT       -0.319843\n",
       "MINIMUM_PAYMENTS   -0.276142\n",
       "P_AMOUNT_PER_TRX    0.011432\n",
       "BAL_PER_CL         -0.715588\n",
       "Name: 0, dtype: float64"
      ]
     },
     "execution_count": 122,
     "metadata": {},
     "output_type": "execute_result"
    }
   ],
   "source": [
    "Group_1"
   ]
  },
  {
   "cell_type": "markdown",
   "metadata": {},
   "source": [
    "### Group 1: Customers who are not regularly active card users."
   ]
  },
  {
   "cell_type": "code",
   "execution_count": 126,
   "metadata": {
    "scrolled": false
   },
   "outputs": [
    {
     "name": "stderr",
     "output_type": "stream",
     "text": [
      "/anaconda3/lib/python3.7/site-packages/IPython/core/display.py:689: UserWarning:\n",
      "\n",
      "Consider using IPython.display.IFrame instead\n",
      "\n"
     ]
    },
    {
     "data": {
      "text/html": [
       "<iframe id=\"igraph\" scrolling=\"no\" style=\"border:none;\" seamless=\"seamless\" src=\"https://plot.ly/~rokaandy/56.embed\" height=\"525px\" width=\"100%\"></iframe>"
      ],
      "text/plain": [
       "<chart_studio.tools.PlotlyDisplay object>"
      ]
     },
     "execution_count": 126,
     "metadata": {},
     "output_type": "execute_result"
    }
   ],
   "source": [
    "import plotly.plotly as py\n",
    "import plotly.offline as pyo\n",
    "import plotly.graph_objs as go\n",
    "\n",
    "data = [go.Scatterpolar(\n",
    "  r = [abs(Group_1[0]), abs(Group_1[1]), abs(Group_1[2]), abs(Group_1[3]),\n",
    "       abs(Group_1[4]),abs(Group_1[5]),abs(Group_1[6]), abs(Group_1[7])],\n",
    "  theta = labels,\n",
    "  fill = 'toself'\n",
    ")]\n",
    "\n",
    "layout = go.Layout(\n",
    "  polar = dict(\n",
    "    radialaxis = dict(\n",
    "      visible = True,\n",
    "      range = [0, 1.5]\n",
    "    )\n",
    "  ),\n",
    "  showlegend = False\n",
    ")\n",
    "\n",
    "fig = go.Figure(data=data, layout=layout)\n",
    "py.iplot(fig)\n"
   ]
  },
  {
   "cell_type": "markdown",
   "metadata": {},
   "source": [
    "### Group 2: Customers who have high spend, and no account balance. They spend their entire card limit each month."
   ]
  },
  {
   "cell_type": "code",
   "execution_count": 129,
   "metadata": {
    "scrolled": false
   },
   "outputs": [
    {
     "name": "stderr",
     "output_type": "stream",
     "text": [
      "/anaconda3/lib/python3.7/site-packages/IPython/core/display.py:689: UserWarning:\n",
      "\n",
      "Consider using IPython.display.IFrame instead\n",
      "\n"
     ]
    },
    {
     "data": {
      "text/html": [
       "<iframe id=\"igraph\" scrolling=\"no\" style=\"border:none;\" seamless=\"seamless\" src=\"https://plot.ly/~rokaandy/62.embed\" height=\"525px\" width=\"100%\"></iframe>"
      ],
      "text/plain": [
       "<chart_studio.tools.PlotlyDisplay object>"
      ]
     },
     "execution_count": 129,
     "metadata": {},
     "output_type": "execute_result"
    }
   ],
   "source": [
    "data = [go.Scatterpolar(\n",
    "  r = [abs(Group_2[0]), abs(Group_2[1]), abs(Group_2[2]), abs(Group_2[3]),\n",
    "       abs(Group_2[4]),abs(Group_2[5]),abs(Group_2[6]), abs(Group_2[7])],\n",
    "  theta = labels,\n",
    "  fill = 'toself'\n",
    ")]\n",
    "\n",
    "layout = go.Layout(\n",
    "  polar = dict(\n",
    "    radialaxis = dict(\n",
    "      visible = True,\n",
    "      range = [0, 1.5]\n",
    "    )\n",
    "  ),\n",
    "  showlegend = False\n",
    ")\n",
    "\n",
    "fig = go.Figure(data=data, layout=layout)\n",
    "py.iplot(fig)"
   ]
  },
  {
   "cell_type": "markdown",
   "metadata": {},
   "source": [
    "### Group 3: Customers with a decent account balance, high cash advance relative to their credit limit."
   ]
  },
  {
   "cell_type": "code",
   "execution_count": 130,
   "metadata": {},
   "outputs": [
    {
     "name": "stderr",
     "output_type": "stream",
     "text": [
      "/anaconda3/lib/python3.7/site-packages/IPython/core/display.py:689: UserWarning:\n",
      "\n",
      "Consider using IPython.display.IFrame instead\n",
      "\n"
     ]
    },
    {
     "data": {
      "text/html": [
       "<iframe id=\"igraph\" scrolling=\"no\" style=\"border:none;\" seamless=\"seamless\" src=\"https://plot.ly/~rokaandy/64.embed\" height=\"525px\" width=\"100%\"></iframe>"
      ],
      "text/plain": [
       "<chart_studio.tools.PlotlyDisplay object>"
      ]
     },
     "execution_count": 130,
     "metadata": {},
     "output_type": "execute_result"
    }
   ],
   "source": [
    "data = [go.Scatterpolar(\n",
    "  r = [abs(Group_3[0]), abs(Group_3[1]), abs(Group_3[2]), abs(Group_3[3]),\n",
    "       abs(Group_3[4]),abs(Group_3[5]),abs(Group_3[6]),abs(Group_3[7])],\n",
    "  theta = labels,\n",
    "  fill = 'toself'\n",
    ")]\n",
    "\n",
    "layout = go.Layout(\n",
    "  polar = dict(\n",
    "    radialaxis = dict(\n",
    "      visible = True,\n",
    "      range = [0, 1.5]\n",
    "    )\n",
    "  ),\n",
    "  showlegend = False\n",
    ")\n",
    "\n",
    "fig = go.Figure(data=data, layout=layout)\n",
    "py.iplot(fig)"
   ]
  },
  {
   "cell_type": "markdown",
   "metadata": {},
   "source": [
    "### Group 4: Customers who have high spend with good credit, and decent account balance.\n",
    "\n",
    "### *Primary Target*"
   ]
  },
  {
   "cell_type": "code",
   "execution_count": 131,
   "metadata": {},
   "outputs": [
    {
     "name": "stderr",
     "output_type": "stream",
     "text": [
      "/anaconda3/lib/python3.7/site-packages/IPython/core/display.py:689: UserWarning:\n",
      "\n",
      "Consider using IPython.display.IFrame instead\n",
      "\n"
     ]
    },
    {
     "data": {
      "text/html": [
       "<iframe id=\"igraph\" scrolling=\"no\" style=\"border:none;\" seamless=\"seamless\" src=\"https://plot.ly/~rokaandy/66.embed\" height=\"525px\" width=\"100%\"></iframe>"
      ],
      "text/plain": [
       "<chart_studio.tools.PlotlyDisplay object>"
      ]
     },
     "execution_count": 131,
     "metadata": {},
     "output_type": "execute_result"
    }
   ],
   "source": [
    "data = [go.Scatterpolar(\n",
    "  r = [abs(Group_4[0]), abs(Group_4[1]), abs(Group_4[2]), abs(Group_4[3]),\n",
    "       abs(Group_4[4]),abs(Group_4[5]),abs(Group_4[6]),abs(Group_4[7])],\n",
    "  theta = labels,\n",
    "  fill = 'toself'\n",
    ")]\n",
    "\n",
    "layout = go.Layout(\n",
    "  polar = dict(\n",
    "    radialaxis = dict(\n",
    "      visible = True,\n",
    "      range = [0, 5.5]\n",
    "    )\n",
    "  ),\n",
    "  showlegend = False\n",
    ")\n",
    "\n",
    "fig = go.Figure(data=data, layout=layout)\n",
    "py.iplot(fig)"
   ]
  },
  {
   "cell_type": "markdown",
   "metadata": {},
   "source": [
    "### Group 5: Customers who use the bank primarily for home or auto loans."
   ]
  },
  {
   "cell_type": "code",
   "execution_count": 132,
   "metadata": {},
   "outputs": [
    {
     "name": "stderr",
     "output_type": "stream",
     "text": [
      "/anaconda3/lib/python3.7/site-packages/IPython/core/display.py:689: UserWarning:\n",
      "\n",
      "Consider using IPython.display.IFrame instead\n",
      "\n"
     ]
    },
    {
     "data": {
      "text/html": [
       "<iframe id=\"igraph\" scrolling=\"no\" style=\"border:none;\" seamless=\"seamless\" src=\"https://plot.ly/~rokaandy/68.embed\" height=\"525px\" width=\"100%\"></iframe>"
      ],
      "text/plain": [
       "<chart_studio.tools.PlotlyDisplay object>"
      ]
     },
     "execution_count": 132,
     "metadata": {},
     "output_type": "execute_result"
    }
   ],
   "source": [
    "data = [go.Scatterpolar(\n",
    "  r = [abs(Group_5[0]), abs(Group_5[1]), abs(Group_5[2]), abs(Group_5[3]),\n",
    "       abs(Group_5[4]),abs(Group_5[5]),abs(Group_5[6]),abs(Group_5[7])],\n",
    "  theta = labels,\n",
    "  fill = 'toself'\n",
    ")]\n",
    "\n",
    "layout = go.Layout(\n",
    "  polar = dict(\n",
    "    radialaxis = dict(\n",
    "      visible = True,\n",
    "      range = [0, 5.5]\n",
    "    )\n",
    "  ),\n",
    "  showlegend = False\n",
    ")\n",
    "\n",
    "fig = go.Figure(data=data, layout=layout)\n",
    "py.iplot(fig)"
   ]
  },
  {
   "cell_type": "code",
   "execution_count": 80,
   "metadata": {},
   "outputs": [],
   "source": [
    "import plotly\n",
    "plotly.tools.set_credentials_file(username='rokaandy', api_key='KXb7kJYuaRVKxE3fvwzy')"
   ]
  },
  {
   "cell_type": "markdown",
   "metadata": {},
   "source": [
    "## Logistic Regression Model"
   ]
  },
  {
   "cell_type": "code",
   "execution_count": 81,
   "metadata": {},
   "outputs": [],
   "source": [
    "from sklearn.model_selection import train_test_split\n",
    "from sklearn.linear_model import LogisticRegression\n",
    "from sklearn.metrics import roc_curve, auc"
   ]
  },
  {
   "cell_type": "code",
   "execution_count": 82,
   "metadata": {
    "scrolled": false
   },
   "outputs": [
    {
     "data": {
      "text/html": [
       "<div>\n",
       "<style scoped>\n",
       "    .dataframe tbody tr th:only-of-type {\n",
       "        vertical-align: middle;\n",
       "    }\n",
       "\n",
       "    .dataframe tbody tr th {\n",
       "        vertical-align: top;\n",
       "    }\n",
       "\n",
       "    .dataframe thead th {\n",
       "        text-align: right;\n",
       "    }\n",
       "</style>\n",
       "<table border=\"1\" class=\"dataframe\">\n",
       "  <thead>\n",
       "    <tr style=\"text-align: right;\">\n",
       "      <th></th>\n",
       "      <th>0</th>\n",
       "      <th>1</th>\n",
       "      <th>2</th>\n",
       "      <th>3</th>\n",
       "      <th>4</th>\n",
       "    </tr>\n",
       "  </thead>\n",
       "  <tbody>\n",
       "    <tr>\n",
       "      <th>BALANCE</th>\n",
       "      <td>40.900749</td>\n",
       "      <td>3202.467416</td>\n",
       "      <td>2495.148862</td>\n",
       "      <td>1666.670542</td>\n",
       "      <td>817.714335</td>\n",
       "    </tr>\n",
       "    <tr>\n",
       "      <th>PURCHASES</th>\n",
       "      <td>95.400000</td>\n",
       "      <td>0.000000</td>\n",
       "      <td>773.170000</td>\n",
       "      <td>1499.000000</td>\n",
       "      <td>16.000000</td>\n",
       "    </tr>\n",
       "    <tr>\n",
       "      <th>CASH_ADVANCE</th>\n",
       "      <td>0.000000</td>\n",
       "      <td>6442.945483</td>\n",
       "      <td>0.000000</td>\n",
       "      <td>205.788017</td>\n",
       "      <td>0.000000</td>\n",
       "    </tr>\n",
       "    <tr>\n",
       "      <th>PURCHASES_TRX</th>\n",
       "      <td>2.000000</td>\n",
       "      <td>0.000000</td>\n",
       "      <td>12.000000</td>\n",
       "      <td>1.000000</td>\n",
       "      <td>1.000000</td>\n",
       "    </tr>\n",
       "    <tr>\n",
       "      <th>CREDIT_LIMIT</th>\n",
       "      <td>1000.000000</td>\n",
       "      <td>7000.000000</td>\n",
       "      <td>7500.000000</td>\n",
       "      <td>7500.000000</td>\n",
       "      <td>1200.000000</td>\n",
       "    </tr>\n",
       "    <tr>\n",
       "      <th>MINIMUM_PAYMENTS</th>\n",
       "      <td>139.509787</td>\n",
       "      <td>1072.340217</td>\n",
       "      <td>627.284787</td>\n",
       "      <td>0.000000</td>\n",
       "      <td>244.791237</td>\n",
       "    </tr>\n",
       "    <tr>\n",
       "      <th>CC_APPROVAL</th>\n",
       "      <td>0.000000</td>\n",
       "      <td>0.000000</td>\n",
       "      <td>1.000000</td>\n",
       "      <td>0.000000</td>\n",
       "      <td>0.000000</td>\n",
       "    </tr>\n",
       "    <tr>\n",
       "      <th>P_AMOUNT_PER_TRX</th>\n",
       "      <td>47.700000</td>\n",
       "      <td>0.000000</td>\n",
       "      <td>64.430833</td>\n",
       "      <td>1499.000000</td>\n",
       "      <td>16.000000</td>\n",
       "    </tr>\n",
       "  </tbody>\n",
       "</table>\n",
       "</div>"
      ],
      "text/plain": [
       "                            0            1            2            3  \\\n",
       "BALANCE             40.900749  3202.467416  2495.148862  1666.670542   \n",
       "PURCHASES           95.400000     0.000000   773.170000  1499.000000   \n",
       "CASH_ADVANCE         0.000000  6442.945483     0.000000   205.788017   \n",
       "PURCHASES_TRX        2.000000     0.000000    12.000000     1.000000   \n",
       "CREDIT_LIMIT      1000.000000  7000.000000  7500.000000  7500.000000   \n",
       "MINIMUM_PAYMENTS   139.509787  1072.340217   627.284787     0.000000   \n",
       "CC_APPROVAL          0.000000     0.000000     1.000000     0.000000   \n",
       "P_AMOUNT_PER_TRX    47.700000     0.000000    64.430833  1499.000000   \n",
       "\n",
       "                            4  \n",
       "BALANCE            817.714335  \n",
       "PURCHASES           16.000000  \n",
       "CASH_ADVANCE         0.000000  \n",
       "PURCHASES_TRX        1.000000  \n",
       "CREDIT_LIMIT      1200.000000  \n",
       "MINIMUM_PAYMENTS   244.791237  \n",
       "CC_APPROVAL          0.000000  \n",
       "P_AMOUNT_PER_TRX    16.000000  "
      ]
     },
     "execution_count": 82,
     "metadata": {},
     "output_type": "execute_result"
    }
   ],
   "source": [
    "df.head().T"
   ]
  },
  {
   "cell_type": "code",
   "execution_count": 83,
   "metadata": {},
   "outputs": [],
   "source": [
    "X = df.drop('CC_APPROVAL', axis=1)\n",
    "y = df.CC_APPROVAL\n",
    "\n",
    "\n",
    "X_train, X_test, y_train, y_test = train_test_split(X, y, random_state=4)"
   ]
  },
  {
   "cell_type": "code",
   "execution_count": 84,
   "metadata": {
    "scrolled": true
   },
   "outputs": [
    {
     "name": "stderr",
     "output_type": "stream",
     "text": [
      "/anaconda3/lib/python3.7/site-packages/sklearn/linear_model/logistic.py:433: FutureWarning:\n",
      "\n",
      "Default solver will be changed to 'lbfgs' in 0.22. Specify a solver to silence this warning.\n",
      "\n",
      "/anaconda3/lib/python3.7/site-packages/sklearn/svm/base.py:922: ConvergenceWarning:\n",
      "\n",
      "Liblinear failed to converge, increase the number of iterations.\n",
      "\n"
     ]
    },
    {
     "data": {
      "text/plain": [
       "LogisticRegression(C=1.0, class_weight=None, dual=False, fit_intercept=True,\n",
       "          intercept_scaling=1, max_iter=100, multi_class='warn',\n",
       "          n_jobs=None, penalty='l2', random_state=None, solver='warn',\n",
       "          tol=0.0001, verbose=0, warm_start=False)"
      ]
     },
     "execution_count": 84,
     "metadata": {},
     "output_type": "execute_result"
    }
   ],
   "source": [
    "loreg = LogisticRegression()\n",
    "loreg.fit(X_train, y_train)"
   ]
  },
  {
   "cell_type": "code",
   "execution_count": 85,
   "metadata": {},
   "outputs": [
    {
     "name": "stdout",
     "output_type": "stream",
     "text": [
      "AUC: 0.9302283922973578\n"
     ]
    },
    {
     "data": {
      "image/png": "[encoded data removed]",
      "text/plain": [
       "<Figure size 720x576 with 1 Axes>"
      ]
     },
     "metadata": {
      "needs_background": "light"
     },
     "output_type": "display_data"
    }
   ],
   "source": [
    "y_score = loreg.decision_function(X_test)\n",
    "\n",
    "fpr, tpr, thresholds = roc_curve(y_test, y_score)\n",
    "print('AUC: {}'.format(auc(fpr, tpr)))\n",
    "plt.figure(figsize=(10,8))\n",
    "lw = 2\n",
    "plt.plot(fpr, tpr, color='darkorange',\n",
    "         lw=lw, label='ROC curve')\n",
    "plt.plot([0, 1], [0, 1], color='navy', lw=lw, linestyle='--')\n",
    "plt.xlim([0.0, 1.0])\n",
    "plt.ylim([0.0, 1.05])\n",
    "plt.yticks([i/20.0 for i in range(21)])\n",
    "plt.xticks([i/20.0 for i in range(21)])\n",
    "plt.xlabel('False Positive Rate')\n",
    "plt.ylabel('True Positive Rate')\n",
    "plt.title('Receiver operating characteristic (ROC) Curve')\n",
    "plt.legend(loc=\"lower right\")\n",
    "plt.show()"
   ]
  },
  {
   "cell_type": "markdown",
   "metadata": {},
   "source": [
    "# Decision Tree\n",
    "Not useful for our classifier."
   ]
  },
  {
   "cell_type": "code",
   "execution_count": 86,
   "metadata": {},
   "outputs": [],
   "source": [
    "from sklearn.tree import DecisionTreeClassifier \n",
    "from sklearn.metrics import accuracy_score, roc_curve, auc"
   ]
  },
  {
   "cell_type": "code",
   "execution_count": 87,
   "metadata": {},
   "outputs": [],
   "source": [
    "clf = DecisionTreeClassifier(criterion='entropy')\n",
    "clf.fit(X_train, y_train)\n",
    "y_pred = clf.predict(X_test)"
   ]
  },
  {
   "cell_type": "code",
   "execution_count": 88,
   "metadata": {},
   "outputs": [
    {
     "name": "stdout",
     "output_type": "stream",
     "text": [
      "Accuracy is :100.0\n",
      "\n",
      "AUC is :1.0\n",
      "\n",
      "Confusion Matrix\n",
      "----------------\n"
     ]
    },
    {
     "data": {
      "text/html": [
       "<div>\n",
       "<style scoped>\n",
       "    .dataframe tbody tr th:only-of-type {\n",
       "        vertical-align: middle;\n",
       "    }\n",
       "\n",
       "    .dataframe tbody tr th {\n",
       "        vertical-align: top;\n",
       "    }\n",
       "\n",
       "    .dataframe thead th {\n",
       "        text-align: right;\n",
       "    }\n",
       "</style>\n",
       "<table border=\"1\" class=\"dataframe\">\n",
       "  <thead>\n",
       "    <tr style=\"text-align: right;\">\n",
       "      <th>Predicted</th>\n",
       "      <th>0</th>\n",
       "      <th>1</th>\n",
       "      <th>All</th>\n",
       "    </tr>\n",
       "    <tr>\n",
       "      <th>True</th>\n",
       "      <th></th>\n",
       "      <th></th>\n",
       "      <th></th>\n",
       "    </tr>\n",
       "  </thead>\n",
       "  <tbody>\n",
       "    <tr>\n",
       "      <th>0</th>\n",
       "      <td>2035</td>\n",
       "      <td>0</td>\n",
       "      <td>2035</td>\n",
       "    </tr>\n",
       "    <tr>\n",
       "      <th>1</th>\n",
       "      <td>0</td>\n",
       "      <td>203</td>\n",
       "      <td>203</td>\n",
       "    </tr>\n",
       "    <tr>\n",
       "      <th>All</th>\n",
       "      <td>2035</td>\n",
       "      <td>203</td>\n",
       "      <td>2238</td>\n",
       "    </tr>\n",
       "  </tbody>\n",
       "</table>\n",
       "</div>"
      ],
      "text/plain": [
       "Predicted     0    1   All\n",
       "True                      \n",
       "0          2035    0  2035\n",
       "1             0  203   203\n",
       "All        2035  203  2238"
      ]
     },
     "execution_count": 88,
     "metadata": {},
     "output_type": "execute_result"
    }
   ],
   "source": [
    "#Calculate Accuracy\n",
    "acc = accuracy_score(y_test, y_pred) * 100\n",
    "print(\"Accuracy is :{0}\".format(acc))\n",
    "\n",
    "#Check the AUC for predictions\n",
    "false_positive_rate, true_positive_rate, thresholds = roc_curve(y_test, y_pred)\n",
    "roc_auc = auc(false_positive_rate, true_positive_rate)\n",
    "print(\"\\nAUC is :{0}\".format(round(roc_auc,2)))\n",
    "\n",
    "#Create and print a confusion matrix\n",
    "print('\\nConfusion Matrix')\n",
    "print('----------------')\n",
    "pd.crosstab(y_test, y_pred, rownames=['True'], colnames=['Predicted'], margins=True)\n",
    "\n",
    "# Code here "
   ]
  },
  {
   "cell_type": "markdown",
   "metadata": {},
   "source": [
    "## KNN Classifier"
   ]
  },
  {
   "cell_type": "code",
   "execution_count": 89,
   "metadata": {},
   "outputs": [],
   "source": [
    "from sklearn.preprocessing import StandardScaler\n",
    "from sklearn.model_selection import train_test_split\n",
    "from sklearn.neighbors import KNeighborsClassifier\n",
    "from sklearn.metrics import precision_score, recall_score, accuracy_score, f1_score"
   ]
  },
  {
   "cell_type": "code",
   "execution_count": 90,
   "metadata": {},
   "outputs": [
    {
     "data": {
      "text/html": [
       "<div>\n",
       "<style scoped>\n",
       "    .dataframe tbody tr th:only-of-type {\n",
       "        vertical-align: middle;\n",
       "    }\n",
       "\n",
       "    .dataframe tbody tr th {\n",
       "        vertical-align: top;\n",
       "    }\n",
       "\n",
       "    .dataframe thead th {\n",
       "        text-align: right;\n",
       "    }\n",
       "</style>\n",
       "<table border=\"1\" class=\"dataframe\">\n",
       "  <thead>\n",
       "    <tr style=\"text-align: right;\">\n",
       "      <th></th>\n",
       "      <th>0</th>\n",
       "      <th>1</th>\n",
       "      <th>2</th>\n",
       "      <th>3</th>\n",
       "      <th>4</th>\n",
       "    </tr>\n",
       "  </thead>\n",
       "  <tbody>\n",
       "    <tr>\n",
       "      <th>BALANCE</th>\n",
       "      <td>40.900749</td>\n",
       "      <td>3202.467416</td>\n",
       "      <td>2495.148862</td>\n",
       "      <td>1666.670542</td>\n",
       "      <td>817.714335</td>\n",
       "    </tr>\n",
       "    <tr>\n",
       "      <th>PURCHASES</th>\n",
       "      <td>95.400000</td>\n",
       "      <td>0.000000</td>\n",
       "      <td>773.170000</td>\n",
       "      <td>1499.000000</td>\n",
       "      <td>16.000000</td>\n",
       "    </tr>\n",
       "    <tr>\n",
       "      <th>CASH_ADVANCE</th>\n",
       "      <td>0.000000</td>\n",
       "      <td>6442.945483</td>\n",
       "      <td>0.000000</td>\n",
       "      <td>205.788017</td>\n",
       "      <td>0.000000</td>\n",
       "    </tr>\n",
       "    <tr>\n",
       "      <th>PURCHASES_TRX</th>\n",
       "      <td>2.000000</td>\n",
       "      <td>0.000000</td>\n",
       "      <td>12.000000</td>\n",
       "      <td>1.000000</td>\n",
       "      <td>1.000000</td>\n",
       "    </tr>\n",
       "    <tr>\n",
       "      <th>CREDIT_LIMIT</th>\n",
       "      <td>1000.000000</td>\n",
       "      <td>7000.000000</td>\n",
       "      <td>7500.000000</td>\n",
       "      <td>7500.000000</td>\n",
       "      <td>1200.000000</td>\n",
       "    </tr>\n",
       "    <tr>\n",
       "      <th>MINIMUM_PAYMENTS</th>\n",
       "      <td>139.509787</td>\n",
       "      <td>1072.340217</td>\n",
       "      <td>627.284787</td>\n",
       "      <td>0.000000</td>\n",
       "      <td>244.791237</td>\n",
       "    </tr>\n",
       "    <tr>\n",
       "      <th>CC_APPROVAL</th>\n",
       "      <td>0.000000</td>\n",
       "      <td>0.000000</td>\n",
       "      <td>1.000000</td>\n",
       "      <td>0.000000</td>\n",
       "      <td>0.000000</td>\n",
       "    </tr>\n",
       "    <tr>\n",
       "      <th>P_AMOUNT_PER_TRX</th>\n",
       "      <td>47.700000</td>\n",
       "      <td>0.000000</td>\n",
       "      <td>64.430833</td>\n",
       "      <td>1499.000000</td>\n",
       "      <td>16.000000</td>\n",
       "    </tr>\n",
       "  </tbody>\n",
       "</table>\n",
       "</div>"
      ],
      "text/plain": [
       "                            0            1            2            3  \\\n",
       "BALANCE             40.900749  3202.467416  2495.148862  1666.670542   \n",
       "PURCHASES           95.400000     0.000000   773.170000  1499.000000   \n",
       "CASH_ADVANCE         0.000000  6442.945483     0.000000   205.788017   \n",
       "PURCHASES_TRX        2.000000     0.000000    12.000000     1.000000   \n",
       "CREDIT_LIMIT      1000.000000  7000.000000  7500.000000  7500.000000   \n",
       "MINIMUM_PAYMENTS   139.509787  1072.340217   627.284787     0.000000   \n",
       "CC_APPROVAL          0.000000     0.000000     1.000000     0.000000   \n",
       "P_AMOUNT_PER_TRX    47.700000     0.000000    64.430833  1499.000000   \n",
       "\n",
       "                            4  \n",
       "BALANCE            817.714335  \n",
       "PURCHASES           16.000000  \n",
       "CASH_ADVANCE         0.000000  \n",
       "PURCHASES_TRX        1.000000  \n",
       "CREDIT_LIMIT      1200.000000  \n",
       "MINIMUM_PAYMENTS   244.791237  \n",
       "CC_APPROVAL          0.000000  \n",
       "P_AMOUNT_PER_TRX    16.000000  "
      ]
     },
     "execution_count": 90,
     "metadata": {},
     "output_type": "execute_result"
    }
   ],
   "source": [
    "df.head().T"
   ]
  },
  {
   "cell_type": "code",
   "execution_count": 91,
   "metadata": {},
   "outputs": [],
   "source": [
    "X = df.drop('CC_APPROVAL', axis=1)\n",
    "y = df.CC_APPROVAL"
   ]
  },
  {
   "cell_type": "code",
   "execution_count": 92,
   "metadata": {
    "scrolled": true
   },
   "outputs": [
    {
     "name": "stderr",
     "output_type": "stream",
     "text": [
      "/anaconda3/lib/python3.7/site-packages/sklearn/preprocessing/data.py:625: DataConversionWarning:\n",
      "\n",
      "Data with input dtype int64, float64 were all converted to float64 by StandardScaler.\n",
      "\n",
      "/anaconda3/lib/python3.7/site-packages/sklearn/base.py:462: DataConversionWarning:\n",
      "\n",
      "Data with input dtype int64, float64 were all converted to float64 by StandardScaler.\n",
      "\n"
     ]
    },
    {
     "data": {
      "text/html": [
       "<div>\n",
       "<style scoped>\n",
       "    .dataframe tbody tr th:only-of-type {\n",
       "        vertical-align: middle;\n",
       "    }\n",
       "\n",
       "    .dataframe tbody tr th {\n",
       "        vertical-align: top;\n",
       "    }\n",
       "\n",
       "    .dataframe thead th {\n",
       "        text-align: right;\n",
       "    }\n",
       "</style>\n",
       "<table border=\"1\" class=\"dataframe\">\n",
       "  <thead>\n",
       "    <tr style=\"text-align: right;\">\n",
       "      <th></th>\n",
       "      <th>BALANCE</th>\n",
       "      <th>PURCHASES</th>\n",
       "      <th>CASH_ADVANCE</th>\n",
       "      <th>PURCHASES_TRX</th>\n",
       "      <th>CREDIT_LIMIT</th>\n",
       "      <th>MINIMUM_PAYMENTS</th>\n",
       "      <th>CC_APPROVAL</th>\n",
       "      <th>P_AMOUNT_PER_TRX</th>\n",
       "    </tr>\n",
       "  </thead>\n",
       "  <tbody>\n",
       "    <tr>\n",
       "      <th>0</th>\n",
       "      <td>-0.732054</td>\n",
       "      <td>-0.424934</td>\n",
       "      <td>-0.466805</td>\n",
       "      <td>-0.511381</td>\n",
       "      <td>-0.960380</td>\n",
       "      <td>-0.297334</td>\n",
       "      <td>-0.315041</td>\n",
       "      <td>-0.163085</td>\n",
       "    </tr>\n",
       "    <tr>\n",
       "      <th>1</th>\n",
       "      <td>0.786858</td>\n",
       "      <td>-0.469584</td>\n",
       "      <td>2.605438</td>\n",
       "      <td>-0.591841</td>\n",
       "      <td>0.688601</td>\n",
       "      <td>0.101998</td>\n",
       "      <td>-0.315041</td>\n",
       "      <td>-0.460239</td>\n",
       "    </tr>\n",
       "    <tr>\n",
       "      <th>2</th>\n",
       "      <td>0.447041</td>\n",
       "      <td>-0.107716</td>\n",
       "      <td>-0.466805</td>\n",
       "      <td>-0.109082</td>\n",
       "      <td>0.826016</td>\n",
       "      <td>-0.088524</td>\n",
       "      <td>3.174192</td>\n",
       "      <td>-0.058858</td>\n",
       "    </tr>\n",
       "    <tr>\n",
       "      <th>3</th>\n",
       "      <td>0.049015</td>\n",
       "      <td>0.231995</td>\n",
       "      <td>-0.368678</td>\n",
       "      <td>-0.551611</td>\n",
       "      <td>0.826016</td>\n",
       "      <td>-0.357057</td>\n",
       "      <td>-0.315041</td>\n",
       "      <td>8.877985</td>\n",
       "    </tr>\n",
       "    <tr>\n",
       "      <th>4</th>\n",
       "      <td>-0.358849</td>\n",
       "      <td>-0.462095</td>\n",
       "      <td>-0.466805</td>\n",
       "      <td>-0.551611</td>\n",
       "      <td>-0.905414</td>\n",
       "      <td>-0.252265</td>\n",
       "      <td>-0.315041</td>\n",
       "      <td>-0.360565</td>\n",
       "    </tr>\n",
       "  </tbody>\n",
       "</table>\n",
       "</div>"
      ],
      "text/plain": [
       "    BALANCE  PURCHASES  CASH_ADVANCE  PURCHASES_TRX  CREDIT_LIMIT  \\\n",
       "0 -0.732054  -0.424934     -0.466805      -0.511381     -0.960380   \n",
       "1  0.786858  -0.469584      2.605438      -0.591841      0.688601   \n",
       "2  0.447041  -0.107716     -0.466805      -0.109082      0.826016   \n",
       "3  0.049015   0.231995     -0.368678      -0.551611      0.826016   \n",
       "4 -0.358849  -0.462095     -0.466805      -0.551611     -0.905414   \n",
       "\n",
       "   MINIMUM_PAYMENTS  CC_APPROVAL  P_AMOUNT_PER_TRX  \n",
       "0         -0.297334    -0.315041         -0.163085  \n",
       "1          0.101998    -0.315041         -0.460239  \n",
       "2         -0.088524     3.174192         -0.058858  \n",
       "3         -0.357057    -0.315041          8.877985  \n",
       "4         -0.252265    -0.315041         -0.360565  "
      ]
     },
     "execution_count": 92,
     "metadata": {},
     "output_type": "execute_result"
    }
   ],
   "source": [
    "scaler = StandardScaler()\n",
    "scaled_data = scaler.fit_transform(df)\n",
    "\n",
    "scaled_df = pd.DataFrame(scaled_data, columns=df.columns)\n",
    "scaled_df.head()"
   ]
  },
  {
   "cell_type": "code",
   "execution_count": 93,
   "metadata": {},
   "outputs": [],
   "source": [
    "X_train, X_test, y_train, y_test = train_test_split(X, y, test_size=0.25)"
   ]
  },
  {
   "cell_type": "code",
   "execution_count": 94,
   "metadata": {},
   "outputs": [],
   "source": [
    "clf = KNeighborsClassifier()\n",
    "clf.fit(X_train, y_train)\n",
    "preds = clf.predict(X_test)"
   ]
  },
  {
   "cell_type": "code",
   "execution_count": 95,
   "metadata": {},
   "outputs": [
    {
     "name": "stdout",
     "output_type": "stream",
     "text": [
      "Precision Score: 0.7407407407407407\n",
      "Recall Score: 0.8421052631578947\n",
      "Accuracy Score: 0.9615728328865059\n",
      "F1 Score: 0.7881773399014779\n"
     ]
    }
   ],
   "source": [
    "def print_metrics(y, preds):\n",
    "    print(\"Precision Score: {}\".format(precision_score(y, preds)))\n",
    "    print(\"Recall Score: {}\".format(recall_score(y, preds)))\n",
    "    print(\"Accuracy Score: {}\".format(accuracy_score(y, preds)))\n",
    "    print(\"F1 Score: {}\".format(f1_score(y, preds)))\n",
    "    \n",
    "print_metrics(y_test, preds)"
   ]
  },
  {
   "cell_type": "code",
   "execution_count": null,
   "metadata": {},
   "outputs": [],
   "source": []
  },
  {
   "cell_type": "markdown",
   "metadata": {},
   "source": [
    "**Precision** measures how precise our predictions are.     \n",
    "*Precision = (True Positives / Pred Positives)*             \n",
    "\n",
    "**Recall** tells us what percentage of the class(es) we're interested in were actually captured by the model.     \n",
    "*Recall = (True Positives / Actual Total Positives)*     \n",
    "\n",
    "**Accuracy** measures the total number of predictions our model got right, including both True Positives and True Negatives.     \n",
    "*Accuracy = (True Pos + True Neg) / Total Observations*     \n",
    "\n",
    "**F1-Score** represents the harmonic Mean of Precision and Recall. How well the model is doing overall.     \n",
    "*F1-Score = 2*(Precision x Recall)/(Precision + Recall)"
   ]
  },
  {
   "cell_type": "code",
   "execution_count": 96,
   "metadata": {},
   "outputs": [
    {
     "name": "stdout",
     "output_type": "stream",
     "text": [
      "Best Value for k: 9\n",
      "F1-Score: 0.8138957816377171\n"
     ]
    }
   ],
   "source": [
    "def find_best_k(X_train, y_train, X_test, y_test, min_k=1, max_k=25):\n",
    "    best_k = 0\n",
    "    best_score = 0.0\n",
    "    for k in range(min_k, max_k+1, 2):\n",
    "        knn = KNeighborsClassifier(n_neighbors=k)\n",
    "        knn.fit(X_train, y_train)\n",
    "        preds = knn.predict(X_test)\n",
    "        f1 = f1_score(y_test, preds)\n",
    "        if f1 > best_score:\n",
    "            best_k = k\n",
    "            best_score = f1\n",
    "    \n",
    "    print(\"Best Value for k: {}\".format(best_k))\n",
    "    print(\"F1-Score: {}\".format(best_score))\n",
    "find_best_k(X_train, y_train, X_test, y_test)"
   ]
  },
  {
   "cell_type": "code",
   "execution_count": null,
   "metadata": {},
   "outputs": [],
   "source": []
  },
  {
   "cell_type": "code",
   "execution_count": null,
   "metadata": {},
   "outputs": [],
   "source": []
  }
 ],
 "metadata": {
  "kernelspec": {
   "display_name": "Python 3",
   "language": "python",
   "name": "python3"
  },
  "language_info": {
   "codemirror_mode": {
    "name": "ipython",
    "version": 3
   },
   "file_extension": ".py",
   "mimetype": "text/x-python",
   "name": "python",
   "nbconvert_exporter": "python",
   "pygments_lexer": "ipython3",
   "version": "3.7.1"
  }
 },
 "nbformat": 4,
 "nbformat_minor": 2
}
